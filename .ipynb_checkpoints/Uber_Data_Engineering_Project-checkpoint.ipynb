{
 "cells": [
  {
   "cell_type": "code",
   "execution_count": 2,
   "id": "67df7aca",
   "metadata": {},
   "outputs": [],
   "source": [
    "import pandas as pd"
   ]
  },
  {
   "cell_type": "code",
   "execution_count": 5,
   "id": "03698f36",
   "metadata": {},
   "outputs": [],
   "source": [
    "df=pd.read_csv('yellow_tripdata_2023-01.csv',low_memory=False)"
   ]
  },
  {
   "cell_type": "code",
   "execution_count": 15,
   "id": "4439a549",
   "metadata": {},
   "outputs": [
    {
     "data": {
      "text/html": [
       "<div>\n",
       "<style scoped>\n",
       "    .dataframe tbody tr th:only-of-type {\n",
       "        vertical-align: middle;\n",
       "    }\n",
       "\n",
       "    .dataframe tbody tr th {\n",
       "        vertical-align: top;\n",
       "    }\n",
       "\n",
       "    .dataframe thead th {\n",
       "        text-align: right;\n",
       "    }\n",
       "</style>\n",
       "<table border=\"1\" class=\"dataframe\">\n",
       "  <thead>\n",
       "    <tr style=\"text-align: right;\">\n",
       "      <th></th>\n",
       "      <th>VendorID</th>\n",
       "      <th>tpep_pickup_datetime</th>\n",
       "      <th>tpep_dropoff_datetime</th>\n",
       "      <th>passenger_count</th>\n",
       "      <th>trip_distance</th>\n",
       "      <th>RatecodeID</th>\n",
       "      <th>store_and_fwd_flag</th>\n",
       "      <th>PULocationID</th>\n",
       "      <th>DOLocationID</th>\n",
       "      <th>payment_type</th>\n",
       "      <th>fare_amount</th>\n",
       "      <th>extra</th>\n",
       "      <th>mta_tax</th>\n",
       "      <th>tip_amount</th>\n",
       "      <th>tolls_amount</th>\n",
       "      <th>improvement_surcharge</th>\n",
       "      <th>total_amount</th>\n",
       "      <th>congestion_surcharge</th>\n",
       "      <th>airport_fee</th>\n",
       "    </tr>\n",
       "  </thead>\n",
       "  <tbody>\n",
       "    <tr>\n",
       "      <th>2363033</th>\n",
       "      <td>1</td>\n",
       "      <td>2023-01-25 18:30:32</td>\n",
       "      <td>2023-01-25 18:54:23</td>\n",
       "      <td>1.0</td>\n",
       "      <td>2.7</td>\n",
       "      <td>1.0</td>\n",
       "      <td>N</td>\n",
       "      <td>161</td>\n",
       "      <td>158</td>\n",
       "      <td>1</td>\n",
       "      <td>19.8</td>\n",
       "      <td>5.0</td>\n",
       "      <td>0.5</td>\n",
       "      <td>5.25</td>\n",
       "      <td>0.0</td>\n",
       "      <td>1.0</td>\n",
       "      <td>31.55</td>\n",
       "      <td>2.5</td>\n",
       "      <td>0.0</td>\n",
       "    </tr>\n",
       "    <tr>\n",
       "      <th>619513</th>\n",
       "      <td>1</td>\n",
       "      <td>2023-01-08 00:17:18</td>\n",
       "      <td>2023-01-08 00:29:24</td>\n",
       "      <td>2.0</td>\n",
       "      <td>2.3</td>\n",
       "      <td>1.0</td>\n",
       "      <td>N</td>\n",
       "      <td>142</td>\n",
       "      <td>263</td>\n",
       "      <td>1</td>\n",
       "      <td>14.9</td>\n",
       "      <td>3.5</td>\n",
       "      <td>0.5</td>\n",
       "      <td>3.95</td>\n",
       "      <td>0.0</td>\n",
       "      <td>1.0</td>\n",
       "      <td>23.85</td>\n",
       "      <td>2.5</td>\n",
       "      <td>0.0</td>\n",
       "    </tr>\n",
       "    <tr>\n",
       "      <th>830325</th>\n",
       "      <td>2</td>\n",
       "      <td>2023-01-10 15:41:03</td>\n",
       "      <td>2023-01-10 15:57:45</td>\n",
       "      <td>1.0</td>\n",
       "      <td>4.63</td>\n",
       "      <td>1.0</td>\n",
       "      <td>N</td>\n",
       "      <td>88</td>\n",
       "      <td>234</td>\n",
       "      <td>1</td>\n",
       "      <td>23.3</td>\n",
       "      <td>0.0</td>\n",
       "      <td>0.5</td>\n",
       "      <td>5.46</td>\n",
       "      <td>0.0</td>\n",
       "      <td>1.0</td>\n",
       "      <td>32.76</td>\n",
       "      <td>2.5</td>\n",
       "      <td>0.0</td>\n",
       "    </tr>\n",
       "  </tbody>\n",
       "</table>\n",
       "</div>"
      ],
      "text/plain": [
       "        VendorID tpep_pickup_datetime tpep_dropoff_datetime passenger_count  \\\n",
       "2363033        1  2023-01-25 18:30:32   2023-01-25 18:54:23             1.0   \n",
       "619513         1  2023-01-08 00:17:18   2023-01-08 00:29:24             2.0   \n",
       "830325         2  2023-01-10 15:41:03   2023-01-10 15:57:45             1.0   \n",
       "\n",
       "        trip_distance RatecodeID store_and_fwd_flag PULocationID DOLocationID  \\\n",
       "2363033           2.7        1.0                  N          161          158   \n",
       "619513            2.3        1.0                  N          142          263   \n",
       "830325           4.63        1.0                  N           88          234   \n",
       "\n",
       "        payment_type fare_amount extra mta_tax tip_amount tolls_amount  \\\n",
       "2363033            1        19.8   5.0     0.5       5.25          0.0   \n",
       "619513             1        14.9   3.5     0.5       3.95          0.0   \n",
       "830325             1        23.3   0.0     0.5       5.46          0.0   \n",
       "\n",
       "        improvement_surcharge total_amount congestion_surcharge airport_fee  \n",
       "2363033                   1.0        31.55                  2.5         0.0  \n",
       "619513                    1.0        23.85                  2.5         0.0  \n",
       "830325                    1.0        32.76                  2.5         0.0  "
      ]
     },
     "execution_count": 15,
     "metadata": {},
     "output_type": "execute_result"
    }
   ],
   "source": [
    "df.sample(3)"
   ]
  },
  {
   "cell_type": "code",
   "execution_count": 7,
   "id": "ac6a5d5e",
   "metadata": {},
   "outputs": [
    {
     "data": {
      "text/plain": [
       "(3066812, 19)"
      ]
     },
     "execution_count": 7,
     "metadata": {},
     "output_type": "execute_result"
    }
   ],
   "source": [
    "#total number of rows and column (3066812, 19)\n",
    "df.shape"
   ]
  },
  {
   "cell_type": "code",
   "execution_count": 8,
   "id": "60442aae",
   "metadata": {},
   "outputs": [
    {
     "name": "stdout",
     "output_type": "stream",
     "text": [
      "Total null value in PULocationID 0\n",
      "Total null value in DOLocationID 0\n"
     ]
    }
   ],
   "source": [
    "#Check null value in PULocationID and DOLocationID column\n",
    "check_null_value_in_pulocationid=df['PULocationID'].isnull().sum()\n",
    "check_null_value_in_dolocationid=df['DOLocationID'].isnull().sum()\n",
    "print(\"Total null value in PULocationID\", check_null_value_in_pulocationid)\n",
    "print(\"Total null value in DOLocationID\", check_null_value_in_dolocationid)"
   ]
  },
  {
   "cell_type": "code",
   "execution_count": 9,
   "id": "83ba0a7a",
   "metadata": {},
   "outputs": [
    {
     "name": "stdout",
     "output_type": "stream",
     "text": [
      "71743\n"
     ]
    }
   ],
   "source": [
    "#Check distinct value in PULocationID and DOLocationID column\n",
    "print(df['passenger_count'].isnull().sum())"
   ]
  },
  {
   "cell_type": "code",
   "execution_count": 10,
   "id": "b7e2c170",
   "metadata": {},
   "outputs": [
    {
     "name": "stdout",
     "output_type": "stream",
     "text": [
      "<class 'pandas.core.frame.DataFrame'>\n",
      "RangeIndex: 3066812 entries, 0 to 3066811\n",
      "Data columns (total 19 columns):\n",
      " #   Column                 Dtype \n",
      "---  ------                 ----- \n",
      " 0   VendorID               object\n",
      " 1   tpep_pickup_datetime   object\n",
      " 2   tpep_dropoff_datetime  object\n",
      " 3   passenger_count        object\n",
      " 4   trip_distance          object\n",
      " 5   RatecodeID             object\n",
      " 6   store_and_fwd_flag     object\n",
      " 7   PULocationID           object\n",
      " 8   DOLocationID           object\n",
      " 9   payment_type           object\n",
      " 10  fare_amount            object\n",
      " 11  extra                  object\n",
      " 12  mta_tax                object\n",
      " 13  tip_amount             object\n",
      " 14  tolls_amount           object\n",
      " 15  improvement_surcharge  object\n",
      " 16  total_amount           object\n",
      " 17  congestion_surcharge   object\n",
      " 18  airport_fee            object\n",
      "dtypes: object(19)\n",
      "memory usage: 444.6+ MB\n"
     ]
    }
   ],
   "source": [
    "#Check the data types of all present column in df dataframe\n",
    "df.info()"
   ]
  },
  {
   "cell_type": "code",
   "execution_count": 11,
   "id": "4e39ca99",
   "metadata": {},
   "outputs": [
    {
     "name": "stdout",
     "output_type": "stream",
     "text": [
      "['2' '1' 'VendorID']\n"
     ]
    }
   ],
   "source": [
    "#convert all the column in proper data type\n",
    "#df['VendorID']=pd.to_numeric(df['VendorID'],downcast='integer')\n",
    "print(df['VendorID'].unique())"
   ]
  },
  {
   "cell_type": "code",
   "execution_count": 12,
   "id": "29f7bbb1",
   "metadata": {},
   "outputs": [
    {
     "name": "stdout",
     "output_type": "stream",
     "text": [
      "Count of distinct values in 'VendorID' column: 3\n"
     ]
    }
   ],
   "source": [
    "distinct_count = len(df['VendorID'].unique())\n",
    "print(\"Count of distinct values in 'VendorID' column:\", distinct_count)"
   ]
  },
  {
   "cell_type": "code",
   "execution_count": 18,
   "id": "84d6319a",
   "metadata": {},
   "outputs": [],
   "source": [
    "#Read taxi zone csv file\n",
    "taxi_zone_df=pd.read_csv('taxi_zones.csv',low_memory=False)"
   ]
  },
  {
   "cell_type": "code",
   "execution_count": 19,
   "id": "24b7bebc",
   "metadata": {},
   "outputs": [
    {
     "data": {
      "text/html": [
       "<div>\n",
       "<style scoped>\n",
       "    .dataframe tbody tr th:only-of-type {\n",
       "        vertical-align: middle;\n",
       "    }\n",
       "\n",
       "    .dataframe tbody tr th {\n",
       "        vertical-align: top;\n",
       "    }\n",
       "\n",
       "    .dataframe thead th {\n",
       "        text-align: right;\n",
       "    }\n",
       "</style>\n",
       "<table border=\"1\" class=\"dataframe\">\n",
       "  <thead>\n",
       "    <tr style=\"text-align: right;\">\n",
       "      <th></th>\n",
       "      <th>OBJECTID</th>\n",
       "      <th>Shape_Leng</th>\n",
       "      <th>the_geom</th>\n",
       "      <th>Shape_Area</th>\n",
       "      <th>zone</th>\n",
       "      <th>LocationID</th>\n",
       "      <th>borough</th>\n",
       "    </tr>\n",
       "  </thead>\n",
       "  <tbody>\n",
       "    <tr>\n",
       "      <th>34</th>\n",
       "      <td>35</td>\n",
       "      <td>0.085788</td>\n",
       "      <td>MULTIPOLYGON (((-73.90105329800004 40.66212482...</td>\n",
       "      <td>0.000324</td>\n",
       "      <td>Brownsville</td>\n",
       "      <td>35</td>\n",
       "      <td>Brooklyn</td>\n",
       "    </tr>\n",
       "    <tr>\n",
       "      <th>83</th>\n",
       "      <td>87</td>\n",
       "      <td>0.036902</td>\n",
       "      <td>MULTIPOLYGON (((-74.00372234899996 40.70693234...</td>\n",
       "      <td>0.000067</td>\n",
       "      <td>Financial District North</td>\n",
       "      <td>87</td>\n",
       "      <td>Manhattan</td>\n",
       "    </tr>\n",
       "  </tbody>\n",
       "</table>\n",
       "</div>"
      ],
      "text/plain": [
       "    OBJECTID  Shape_Leng                                           the_geom  \\\n",
       "34        35    0.085788  MULTIPOLYGON (((-73.90105329800004 40.66212482...   \n",
       "83        87    0.036902  MULTIPOLYGON (((-74.00372234899996 40.70693234...   \n",
       "\n",
       "    Shape_Area                      zone  LocationID    borough  \n",
       "34    0.000324               Brownsville          35   Brooklyn  \n",
       "83    0.000067  Financial District North          87  Manhattan  "
      ]
     },
     "execution_count": 19,
     "metadata": {},
     "output_type": "execute_result"
    }
   ],
   "source": [
    "taxi_zone_df.sample(2)"
   ]
  },
  {
   "cell_type": "code",
   "execution_count": 20,
   "id": "dfc232a7",
   "metadata": {},
   "outputs": [
    {
     "name": "stdout",
     "output_type": "stream",
     "text": [
      "<class 'pandas.core.frame.DataFrame'>\n",
      "RangeIndex: 263 entries, 0 to 262\n",
      "Data columns (total 7 columns):\n",
      " #   Column      Non-Null Count  Dtype  \n",
      "---  ------      --------------  -----  \n",
      " 0   OBJECTID    263 non-null    int64  \n",
      " 1   Shape_Leng  263 non-null    float64\n",
      " 2   the_geom    263 non-null    object \n",
      " 3   Shape_Area  263 non-null    float64\n",
      " 4   zone        263 non-null    object \n",
      " 5   LocationID  263 non-null    int64  \n",
      " 6   borough     263 non-null    object \n",
      "dtypes: float64(2), int64(2), object(3)\n",
      "memory usage: 14.5+ KB\n"
     ]
    }
   ],
   "source": [
    "taxi_zone_df.info()"
   ]
  },
  {
   "cell_type": "code",
   "execution_count": 21,
   "id": "15ee97e3-dae9-4cf5-bf70-b542dcbe67e5",
   "metadata": {},
   "outputs": [
    {
     "name": "stdout",
     "output_type": "stream",
     "text": [
      "<class 'pandas.core.frame.DataFrame'>\n",
      "RangeIndex: 3066812 entries, 0 to 3066811\n",
      "Data columns (total 19 columns):\n",
      " #   Column                 Dtype \n",
      "---  ------                 ----- \n",
      " 0   VendorID               object\n",
      " 1   tpep_pickup_datetime   object\n",
      " 2   tpep_dropoff_datetime  object\n",
      " 3   passenger_count        object\n",
      " 4   trip_distance          object\n",
      " 5   RatecodeID             object\n",
      " 6   store_and_fwd_flag     object\n",
      " 7   PULocationID           object\n",
      " 8   DOLocationID           object\n",
      " 9   payment_type           object\n",
      " 10  fare_amount            object\n",
      " 11  extra                  object\n",
      " 12  mta_tax                object\n",
      " 13  tip_amount             object\n",
      " 14  tolls_amount           object\n",
      " 15  improvement_surcharge  object\n",
      " 16  total_amount           object\n",
      " 17  congestion_surcharge   object\n",
      " 18  airport_fee            object\n",
      "dtypes: object(19)\n",
      "memory usage: 444.6+ MB\n"
     ]
    }
   ],
   "source": [
    "df.info()"
   ]
  },
  {
   "cell_type": "markdown",
   "id": "42bf0118-e79c-4cb0-ba91-28d9cdc035bf",
   "metadata": {},
   "source": [
    "For Testing Purpose all the CSV data into database and see if there is some garbage value "
   ]
  },
  {
   "cell_type": "code",
   "execution_count": null,
   "id": "b0b57457-e164-40d8-bd6a-2b7aee4e3bcd",
   "metadata": {},
   "outputs": [
    {
     "name": "stdout",
     "output_type": "stream",
     "text": [
      "Table 'yellow_tripdata_2023_01' created successfully\n"
     ]
    }
   ],
   "source": [
    "import psycopg2\n",
    "import pandas as pd\n",
    "from psycopg2 import extras\n",
    "\n",
    "try:\n",
    "    # Establishing the connection\n",
    "    conn = psycopg2.connect(\n",
    "        database=\"postgres\", user='postgres', password='password', host='127.0.0.1', port='5432')\n",
    "    \n",
    "    # Creating a cursor object using the cursor() method\n",
    "    cursor = conn.cursor()\n",
    "    \n",
    "    # Create table yellow_tripdata_2023_01 if not exists\n",
    "    cursor.execute('''CREATE TABLE IF NOT EXISTS yellow_tripdata_2023_01 (\n",
    "                            id SERIAL PRIMARY KEY,\n",
    "                            VendorID TEXT, \n",
    "                            tpep_pickup_datetime TEXT,\n",
    "                            tpep_dropoff_datetime TEXT,\n",
    "                            passenger_count TEXT,\n",
    "                            trip_distance TEXT,\n",
    "                            RatecodeID TEXT,\n",
    "                            store_and_fwd_flag TEXT,\n",
    "                            PULocationID TEXT,\n",
    "                            DOLocationID TEXT,\n",
    "                            payment_type TEXT,\n",
    "                            fare_amount TEXT,\n",
    "                            extra TEXT,\n",
    "                            mta_tax TEXT,\n",
    "                            tip_amount TEXT,\n",
    "                            tolls_amount TEXT,\n",
    "                            improvement_surcharge TEXT,\n",
    "                            total_amount TEXT,\n",
    "                            congestion_surcharge TEXT,\n",
    "                            airport_fee TEXT);''')\n",
    "    \n",
    "    # Commit the table creation\n",
    "    conn.commit()\n",
    "    print(\"Table 'yellow_tripdata_2023_01' created successfully\")\n",
    "    \n",
    "    # Load CSV file into a DataFrame skipping the header row\n",
    "    df = pd.read_csv('yellow_tripdata_2023-01.csv', low_memory=False) \n",
    "    \n",
    "    # Prepare data as a list of tuples\n",
    "    data = [tuple(row) for row in df.itertuples(index=False, name=None)]\n",
    "    \n",
    "    # Construct the INSERT INTO statement\n",
    "    insert_query = \"\"\"\n",
    "        INSERT INTO yellow_tripdata_2023_01 (VendorID, tpep_pickup_datetime, tpep_dropoff_datetime, passenger_count, \n",
    "        trip_distance, RatecodeID, store_and_fwd_flag, PULocationID, DOLocationID, payment_type, fare_amount, extra, \n",
    "        mta_tax, tip_amount, tolls_amount, improvement_surcharge, total_amount, congestion_surcharge, airport_fee)\n",
    "        VALUES %s\n",
    "    \"\"\"\n",
    "    \n",
    "    # Execute the INSERT INTO statement using execute_values()\n",
    "    extras.execute_values(cursor, insert_query, data, page_size=100000) #page_size is number of rows to be inserted  \n",
    "    \n",
    "    # Committing the transaction\n",
    "    conn.commit()\n",
    "    print(\"Data inserted successfully in yellow_tripdata_2023_01 table\")\n",
    "    \n",
    "    \n",
    "    # Create table taxi_zone_lookup if not exists\n",
    "    cursor.execute('''create table taxi_zones(OBJECTID int PRIMARY KEY,\n",
    "                                                    Shape_Leng float,\n",
    "                                                    the_geom text,\n",
    "                                                    Shape_Area float,\n",
    "                                                    Zone text,\n",
    "                                                    LocationID int,\n",
    "                                                    Borough text);''')\n",
    "    \n",
    "\n",
    "    # Commit the table creation\n",
    "    conn.commit()\n",
    "    \n",
    "    print(\"Table 'taxi_zones' created successfully\")\n",
    "\n",
    "    # Load CSV file into a DataFrame skipping the header row\n",
    "    zone_df = pd.read_csv('taxi_zones.csv', low_memory=False) \n",
    "    \n",
    "    # Prepare data as a list of tuples\n",
    "    zone_data = [tuple(row) for row in zone_df.itertuples(index=False, name=None)]\n",
    "    \n",
    "    # Construct the INSERT INTO statement\n",
    "    zone_insert_query = \"\"\"\n",
    "        INSERT INTO taxi_zones (OBJECTID,Shape_Leng,the_geom,Shape_Area,Zone,LocationID,Borough)\n",
    "        VALUES %s\n",
    "    \"\"\"\n",
    "    \n",
    "    # Execute the INSERT INTO statement using execute_values()\n",
    "    extras.execute_values(cursor, zone_insert_query, zone_data, page_size=1000) #page_size is number of rows to be inserted  \n",
    "    \n",
    "    # Committing the transaction\n",
    "    conn.commit()\n",
    "    print(\"Data inserted successfully in taxi_zones table\")\n",
    "\n",
    "except (Exception, psycopg2.Error) as error:\n",
    "    print(\"Error while connecting to PostgreSQL or inserting data:\", error)\n",
    "\n",
    "finally:\n",
    "    # Closing the connection\n",
    "    if conn:\n",
    "        cursor.close()\n",
    "        conn.close()\n",
    "        print(\"PostgreSQL connection is closed\")\n"
   ]
  },
  {
   "cell_type": "code",
   "execution_count": 27,
   "id": "34edcfcc-7960-4af8-ba64-adfe8ba42144",
   "metadata": {},
   "outputs": [
    {
     "name": "stdout",
     "output_type": "stream",
     "text": [
      "66668      VendorID\n",
      "133337     VendorID\n",
      "200006     VendorID\n",
      "266675     VendorID\n",
      "333344     VendorID\n",
      "400013     VendorID\n",
      "466682     VendorID\n",
      "533351     VendorID\n",
      "600020     VendorID\n",
      "666689     VendorID\n",
      "733358     VendorID\n",
      "800027     VendorID\n",
      "866696     VendorID\n",
      "933365     VendorID\n",
      "1000034    VendorID\n",
      "1066703    VendorID\n",
      "1133372    VendorID\n",
      "1200041    VendorID\n",
      "1266710    VendorID\n",
      "1333379    VendorID\n",
      "1400048    VendorID\n",
      "1466717    VendorID\n",
      "1533386    VendorID\n",
      "1600055    VendorID\n",
      "1666724    VendorID\n",
      "1733393    VendorID\n",
      "1800062    VendorID\n",
      "1866731    VendorID\n",
      "1933400    VendorID\n",
      "2000069    VendorID\n",
      "2066738    VendorID\n",
      "2133407    VendorID\n",
      "2200076    VendorID\n",
      "2266745    VendorID\n",
      "2333414    VendorID\n",
      "2400083    VendorID\n",
      "2466752    VendorID\n",
      "2533421    VendorID\n",
      "2600090    VendorID\n",
      "2666759    VendorID\n",
      "2733428    VendorID\n",
      "2800097    VendorID\n",
      "2866766    VendorID\n",
      "2933435    VendorID\n",
      "3000104    VendorID\n",
      "3066773    VendorID\n",
      "Name: VendorID, dtype: object\n"
     ]
    }
   ],
   "source": [
    "vendorid_rows = df[df['VendorID'] == 'VendorID']\n",
    "print(vendorid_values.shape)"
   ]
  },
  {
   "cell_type": "code",
   "execution_count": null,
   "id": "f1e58a73-e22c-4c8a-bfce-5c26bf5a1d9c",
   "metadata": {},
   "outputs": [],
   "source": []
  },
  {
   "cell_type": "code",
   "execution_count": null,
   "id": "3e13fd9f-0897-4345-8100-0f75f688c7c8",
   "metadata": {},
   "outputs": [],
   "source": []
  },
  {
   "cell_type": "code",
   "execution_count": null,
   "id": "e7b9a9d7-f20e-4c60-8244-b0815627c654",
   "metadata": {},
   "outputs": [],
   "source": []
  },
  {
   "cell_type": "code",
   "execution_count": null,
   "id": "962fcc37-3078-4766-a3e4-2862f38e1166",
   "metadata": {},
   "outputs": [],
   "source": []
  },
  {
   "cell_type": "code",
   "execution_count": null,
   "id": "0430c382-fd0f-4fd6-ad70-b44c4a8c1d39",
   "metadata": {},
   "outputs": [],
   "source": []
  },
  {
   "cell_type": "code",
   "execution_count": null,
   "id": "518801aa-e7b4-4770-a15e-1222f1308f8a",
   "metadata": {},
   "outputs": [],
   "source": []
  },
  {
   "cell_type": "code",
   "execution_count": null,
   "id": "8fe6fd1c-85ed-49fb-9129-294f3e9d2688",
   "metadata": {},
   "outputs": [],
   "source": []
  },
  {
   "cell_type": "code",
   "execution_count": null,
   "id": "7e154c20-7f93-4c6f-8f9d-27462838ed34",
   "metadata": {},
   "outputs": [],
   "source": []
  },
  {
   "cell_type": "code",
   "execution_count": null,
   "id": "409401e5-515e-4c5c-8fb5-723e0b62346a",
   "metadata": {},
   "outputs": [],
   "source": []
  },
  {
   "cell_type": "code",
   "execution_count": 27,
   "id": "97b9e7fc",
   "metadata": {},
   "outputs": [],
   "source": [
    "df = df[df['tpep_dropoff_datetime'] != 'tpep_dropoff_datetime']"
   ]
  },
  {
   "cell_type": "code",
   "execution_count": 28,
   "id": "0779c246",
   "metadata": {},
   "outputs": [],
   "source": [
    "df['VendorID']=pd.to_numeric(df['VendorID'],downcast='integer')\n",
    "df['tpep_pickup_datetime']=pd.to_datetime(df['tpep_pickup_datetime'])\n",
    "df['tpep_dropoff_datetime']=pd.to_datetime(df['tpep_dropoff_datetime'])\n",
    "df['passenger_count']=pd.to_numeric(df['passenger_count'],downcast='integer')"
   ]
  },
  {
   "cell_type": "code",
   "execution_count": null,
   "id": "b6817eee",
   "metadata": {},
   "outputs": [],
   "source": [
    "df['trip_distance']=pd.to_datetime(df['trip_distance'])\n",
    "df['RatecodeID']=pd.to_datetime(df['RatecodeID'])\n",
    "df['store_and_fwd_flag']=pd.to_datetime(df['store_and_fwd_flag'])\n",
    "df['PULocationID']=pd.to_datetime(df['PULocationID'])\n",
    "df['DOLocationID']=pd.to_datetime(df['DOLocationID'])\n",
    "df['payment_type']=pd.to_datetime(df['payment_type'])\n",
    "df['fare_amount']=pd.to_datetime(df['fare_amount'])\n",
    "df['extra']=pd.to_datetime(df['extra'])\n",
    "df['mta_tax']=pd.to_datetime(df['mta_tax'])\n",
    "df['tip_amount']=pd.to_datetime(df['tip_amount'])\n",
    "df['tolls_amount']=pd.to_datetime(df['tolls_amount'])\n",
    "df['improvement_surcharge']=pd.to_datetime(df['improvement_surcharge'])\n",
    "df['total_amount']=pd.to_datetime(df['total_amount'])\n",
    "df['congestion_surcharge']=pd.to_datetime(df['congestion_surcharge'])\n",
    "df['airport_fee']=pd.to_datetime(df['airport_fee'])"
   ]
  },
  {
   "cell_type": "code",
   "execution_count": 17,
   "id": "2748e860",
   "metadata": {},
   "outputs": [
    {
     "name": "stdout",
     "output_type": "stream",
     "text": [
      "<class 'pandas.core.frame.DataFrame'>\n",
      "Index: 3066766 entries, 0 to 3066811\n",
      "Data columns (total 19 columns):\n",
      " #   Column                 Dtype         \n",
      "---  ------                 -----         \n",
      " 0   VendorID               int8          \n",
      " 1   tpep_pickup_datetime   datetime64[ns]\n",
      " 2   tpep_dropoff_datetime  datetime64[ns]\n",
      " 3   passenger_count        float64       \n",
      " 4   trip_distance          object        \n",
      " 5   RatecodeID             object        \n",
      " 6   store_and_fwd_flag     object        \n",
      " 7   PULocationID           object        \n",
      " 8   DOLocationID           object        \n",
      " 9   payment_type           object        \n",
      " 10  fare_amount            object        \n",
      " 11  extra                  object        \n",
      " 12  mta_tax                object        \n",
      " 13  tip_amount             object        \n",
      " 14  tolls_amount           object        \n",
      " 15  improvement_surcharge  object        \n",
      " 16  total_amount           object        \n",
      " 17  congestion_surcharge   object        \n",
      " 18  airport_fee            object        \n",
      "dtypes: datetime64[ns](2), float64(1), int8(1), object(15)\n",
      "memory usage: 447.5+ MB\n"
     ]
    }
   ],
   "source": [
    "df.info()"
   ]
  },
  {
   "cell_type": "code",
   "execution_count": null,
   "id": "bf7ad426",
   "metadata": {},
   "outputs": [],
   "source": []
  },
  {
   "cell_type": "code",
   "execution_count": null,
   "id": "3ac910da",
   "metadata": {},
   "outputs": [],
   "source": []
  },
  {
   "cell_type": "code",
   "execution_count": null,
   "id": "7e43a2ee",
   "metadata": {},
   "outputs": [],
   "source": []
  },
  {
   "cell_type": "markdown",
   "id": "aab87a2b",
   "metadata": {},
   "source": [
    "Load both file in postgreSQL datbase for data cleaning "
   ]
  },
  {
   "cell_type": "code",
   "execution_count": 70,
   "id": "023dfd83",
   "metadata": {},
   "outputs": [
    {
     "name": "stdout",
     "output_type": "stream",
     "text": [
      "yellow_tripdata_2023_01 has been created successfully\n",
      "PostgreSQL connection is closed\n"
     ]
    }
   ],
   "source": [
    "# import psycopg2\n",
    "\n",
    "# try:\n",
    "#     #Establishing the connection\n",
    "#     conn=psycopg2.connect(\n",
    "#     database=\"postgres\", user='postgres', password='password', host='127.0.0.1', port='5432')\n",
    "    \n",
    "#     #Creating a cursor object using the cursor() method\n",
    "#     cursor = conn.cursor()\n",
    "    \n",
    "#     # Executing a PostgreSQL function using the execute() method\n",
    "#     cursor.execute('''create table yellow_tripdata_2023_01(id SERIAL PRIMARY key,\n",
    "#                             VendorID text, \n",
    "#                             tpep_pickup_datetime text,\n",
    "#                             tpep_dropoff_datetime text,\n",
    "#                             passenger_count text,\n",
    "#                             trip_distance text,\n",
    "#                             RatecodeID text,\n",
    "#                             store_and_fwd_flag text,\n",
    "#                             PULocationID text,\n",
    "#                             DOLocationID text,\n",
    "#                             payment_type text,\n",
    "#                             fare_amount text,\n",
    "#                             extra text,\n",
    "#                             mta_tax text,\n",
    "#                             tip_amount text,\n",
    "#                             tolls_amount text,\n",
    "#                             improvement_surcharge text,\n",
    "#                             total_amount text,\n",
    "#                             congestion_surcharge text,\n",
    "#                             airport_fee text);''')\n",
    "#     conn.commit()\n",
    "#     print(\"yellow_tripdata_2023_01 has been created successfully\")\n",
    "\n",
    "# except(Exception, psycopg2.Error):\n",
    "#     print(\"Error while connecting to PostgreSQL\", error)\n",
    "\n",
    "# finally:\n",
    "#     #Closing the connection\n",
    "#     if conn:\n",
    "#         cursor.close()\n",
    "#         conn.close()\n",
    "#         print(\"PostgreSQL connection is closed\")\n",
    "    "
   ]
  },
  {
   "cell_type": "code",
   "execution_count": 12,
   "id": "ace5c646",
   "metadata": {},
   "outputs": [
    {
     "name": "stderr",
     "output_type": "stream",
     "text": [
      "/tmp/ipykernel_17998/4041931336.py:1: DtypeWarning: Columns (0,3,4,5,6,7,8,9,10,11,12,13,14,15,16,17,18) have mixed types. Specify dtype option on import or set low_memory=False.\n",
      "  df_test = pd.read_csv('yellow_tripdata_2023-01.csv', skiprows=1)\n"
     ]
    }
   ],
   "source": [
    "df_test = pd.read_csv('yellow_tripdata_2023-01.csv', skiprows=1)"
   ]
  },
  {
   "cell_type": "code",
   "execution_count": 13,
   "id": "9a1a287c",
   "metadata": {},
   "outputs": [
    {
     "data": {
      "text/html": [
       "<div>\n",
       "<style scoped>\n",
       "    .dataframe tbody tr th:only-of-type {\n",
       "        vertical-align: middle;\n",
       "    }\n",
       "\n",
       "    .dataframe tbody tr th {\n",
       "        vertical-align: top;\n",
       "    }\n",
       "\n",
       "    .dataframe thead th {\n",
       "        text-align: right;\n",
       "    }\n",
       "</style>\n",
       "<table border=\"1\" class=\"dataframe\">\n",
       "  <thead>\n",
       "    <tr style=\"text-align: right;\">\n",
       "      <th></th>\n",
       "      <th>2</th>\n",
       "      <th>2023-01-01 00:32:10</th>\n",
       "      <th>2023-01-01 00:40:36</th>\n",
       "      <th>1.0</th>\n",
       "      <th>0.97</th>\n",
       "      <th>1.0.1</th>\n",
       "      <th>N</th>\n",
       "      <th>161</th>\n",
       "      <th>141</th>\n",
       "      <th>2.1</th>\n",
       "      <th>9.3</th>\n",
       "      <th>1.0.2</th>\n",
       "      <th>0.5</th>\n",
       "      <th>0.0</th>\n",
       "      <th>0.0.1</th>\n",
       "      <th>1.0.3</th>\n",
       "      <th>14.3</th>\n",
       "      <th>2.5</th>\n",
       "      <th>0.0.2</th>\n",
       "    </tr>\n",
       "  </thead>\n",
       "  <tbody>\n",
       "    <tr>\n",
       "      <th>63888</th>\n",
       "      <td>2</td>\n",
       "      <td>2023-01-01 20:37:14</td>\n",
       "      <td>2023-01-01 20:45:27</td>\n",
       "      <td>1.0</td>\n",
       "      <td>2.21</td>\n",
       "      <td>1.0</td>\n",
       "      <td>N</td>\n",
       "      <td>142</td>\n",
       "      <td>151</td>\n",
       "      <td>1</td>\n",
       "      <td>12.1</td>\n",
       "      <td>1.0</td>\n",
       "      <td>0.5</td>\n",
       "      <td>3.42</td>\n",
       "      <td>0.0</td>\n",
       "      <td>1.0</td>\n",
       "      <td>20.52</td>\n",
       "      <td>2.5</td>\n",
       "      <td>0.0</td>\n",
       "    </tr>\n",
       "    <tr>\n",
       "      <th>2105760</th>\n",
       "      <td>2</td>\n",
       "      <td>2023-01-23 05:33:06</td>\n",
       "      <td>2023-01-23 05:38:51</td>\n",
       "      <td>2.0</td>\n",
       "      <td>1.24</td>\n",
       "      <td>1.0</td>\n",
       "      <td>N</td>\n",
       "      <td>186</td>\n",
       "      <td>233</td>\n",
       "      <td>1</td>\n",
       "      <td>8.6</td>\n",
       "      <td>1.0</td>\n",
       "      <td>0.5</td>\n",
       "      <td>2.72</td>\n",
       "      <td>0.0</td>\n",
       "      <td>1.0</td>\n",
       "      <td>16.32</td>\n",
       "      <td>2.5</td>\n",
       "      <td>0.0</td>\n",
       "    </tr>\n",
       "    <tr>\n",
       "      <th>2337212</th>\n",
       "      <td>2</td>\n",
       "      <td>2023-01-25 14:57:51</td>\n",
       "      <td>2023-01-25 15:08:43</td>\n",
       "      <td>1.0</td>\n",
       "      <td>2.87</td>\n",
       "      <td>1.0</td>\n",
       "      <td>Y</td>\n",
       "      <td>233</td>\n",
       "      <td>232</td>\n",
       "      <td>1</td>\n",
       "      <td>15.6</td>\n",
       "      <td>0.0</td>\n",
       "      <td>0.5</td>\n",
       "      <td>5.88</td>\n",
       "      <td>0.0</td>\n",
       "      <td>1.0</td>\n",
       "      <td>25.48</td>\n",
       "      <td>2.5</td>\n",
       "      <td>0.0</td>\n",
       "    </tr>\n",
       "    <tr>\n",
       "      <th>2468569</th>\n",
       "      <td>2</td>\n",
       "      <td>2023-01-26 17:05:10</td>\n",
       "      <td>2023-01-26 17:57:30</td>\n",
       "      <td>1.0</td>\n",
       "      <td>11.48</td>\n",
       "      <td>1.0</td>\n",
       "      <td>N</td>\n",
       "      <td>142</td>\n",
       "      <td>181</td>\n",
       "      <td>1</td>\n",
       "      <td>57.6</td>\n",
       "      <td>2.5</td>\n",
       "      <td>0.5</td>\n",
       "      <td>10.0</td>\n",
       "      <td>6.55</td>\n",
       "      <td>1.0</td>\n",
       "      <td>80.65</td>\n",
       "      <td>2.5</td>\n",
       "      <td>0.0</td>\n",
       "    </tr>\n",
       "  </tbody>\n",
       "</table>\n",
       "</div>"
      ],
      "text/plain": [
       "         2  2023-01-01 00:32:10  2023-01-01 00:40:36  1.0   0.97 1.0.1  N  \\\n",
       "63888    2  2023-01-01 20:37:14  2023-01-01 20:45:27  1.0   2.21   1.0  N   \n",
       "2105760  2  2023-01-23 05:33:06  2023-01-23 05:38:51  2.0   1.24   1.0  N   \n",
       "2337212  2  2023-01-25 14:57:51  2023-01-25 15:08:43  1.0   2.87   1.0  Y   \n",
       "2468569  2  2023-01-26 17:05:10  2023-01-26 17:57:30  1.0  11.48   1.0  N   \n",
       "\n",
       "         161  141 2.1   9.3 1.0.2  0.5   0.0 0.0.1 1.0.3   14.3  2.5 0.0.2  \n",
       "63888    142  151   1  12.1   1.0  0.5  3.42   0.0   1.0  20.52  2.5   0.0  \n",
       "2105760  186  233   1   8.6   1.0  0.5  2.72   0.0   1.0  16.32  2.5   0.0  \n",
       "2337212  233  232   1  15.6   0.0  0.5  5.88   0.0   1.0  25.48  2.5   0.0  \n",
       "2468569  142  181   1  57.6   2.5  0.5  10.0  6.55   1.0  80.65  2.5   0.0  "
      ]
     },
     "execution_count": 13,
     "metadata": {},
     "output_type": "execute_result"
    }
   ],
   "source": [
    "df_test.sample(4)"
   ]
  },
  {
   "cell_type": "code",
   "execution_count": 14,
   "id": "e3474982",
   "metadata": {},
   "outputs": [
    {
     "name": "stdout",
     "output_type": "stream",
     "text": [
      "Index: 0\n",
      "Row data:\n",
      "VendorID                                   2\n",
      "tpep_pickup_datetime     2023-01-01 00:32:10\n",
      "tpep_dropoff_datetime    2023-01-01 00:40:36\n",
      "passenger_count                          1.0\n",
      "trip_distance                           0.97\n",
      "RatecodeID                               1.0\n",
      "store_and_fwd_flag                         N\n",
      "PULocationID                             161\n",
      "DOLocationID                             141\n",
      "payment_type                               2\n",
      "fare_amount                              9.3\n",
      "extra                                    1.0\n",
      "mta_tax                                  0.5\n",
      "tip_amount                               0.0\n",
      "tolls_amount                             0.0\n",
      "improvement_surcharge                    1.0\n",
      "total_amount                            14.3\n",
      "congestion_surcharge                     2.5\n",
      "airport_fee                              0.0\n",
      "Name: 0, dtype: object\n",
      "\n"
     ]
    }
   ],
   "source": [
    "for index, row in df.iterrows():\n",
    "    print(f\"Index: {index}\")\n",
    "    print(f\"Row data:\\n{row}\\n\")\n",
    "    break;"
   ]
  },
  {
   "cell_type": "code",
   "execution_count": 72,
   "id": "32016883",
   "metadata": {},
   "outputs": [],
   "source": [
    "# #Insert all the csv data into tables\n",
    "# import psycopg2\n",
    "# import pandas as pd\n",
    "# from psycopg2 import extras\n",
    "\n",
    "# try:\n",
    "#     # Establishing the connection\n",
    "#     conn = psycopg2.connect(\n",
    "#         database=\"postgres\", user='postgres', password='password', host='127.0.0.1', port='5432')\n",
    "    \n",
    "#     # Creating a cursor object using the cursor() method\n",
    "#     cursor = conn.cursor()\n",
    "    \n",
    "#     # Load CSV file into a DataFrame skipping the header row\n",
    "#     df = pd.read_csv('yellow_tripdata_2023-01.csv', skiprows=1,low_memory=False)  # Adjust the file path as necessary\n",
    "    \n",
    "#     # Insert DataFrame records into PostgreSQL table\n",
    "#     for index, row in df.iterrows():\n",
    "#         cursor.execute(\"\"\"\n",
    "#             INSERT INTO yellow_tripdata_2023_01 (VendorID, tpep_pickup_datetime, tpep_dropoff_datetime, passenger_count, \n",
    "#             trip_distance, RatecodeID, store_and_fwd_flag, PULocationID, DOLocationID, payment_type, fare_amount, extra, \n",
    "#             mta_tax, tip_amount, tolls_amount, improvement_surcharge, total_amount, congestion_surcharge, airport_fee)\n",
    "#             VALUES (%s, %s, %s, %s, %s, %s, %s, %s, %s, %s, %s, %s, %s, %s, %s, %s, %s, %s, %s)\n",
    "#         \"\"\", tuple(row))\n",
    "\n",
    "#         # Committing the transaction\n",
    "#         conn.commit()\n",
    "#     print(\"Data inserted successfully\")\n",
    "\n",
    "# except(Exception, psycopg2.Error) as error:\n",
    "#     print(\"Error while connecting to PostgreSQL\", error)\n",
    "\n",
    "# finally:\n",
    "#     # Closing the connection\n",
    "#     if conn:\n",
    "#         cursor.close()\n",
    "#         conn.close()\n",
    "#         print(\"PostgreSQL connection is closed\")\n"
   ]
  },
  {
   "cell_type": "markdown",
   "id": "ba73fe4c",
   "metadata": {},
   "source": [
    "Table creation and Data insertation at a time."
   ]
  },
  {
   "cell_type": "code",
   "execution_count": 15,
   "id": "e83e4443",
   "metadata": {},
   "outputs": [
    {
     "name": "stdout",
     "output_type": "stream",
     "text": [
      "Table 'yellow_tripdata_2023_01' created successfully\n",
      "Data inserted successfully\n",
      "PostgreSQL connection is closed\n"
     ]
    }
   ],
   "source": [
    "# import psycopg2\n",
    "# import pandas as pd\n",
    "# from psycopg2 import extras\n",
    "\n",
    "# try:\n",
    "#     # Establishing the connection\n",
    "#     conn = psycopg2.connect(\n",
    "#         database=\"postgres\", user='postgres', password='password', host='127.0.0.1', port='5432')\n",
    "    \n",
    "#     # Creating a cursor object using the cursor() method\n",
    "#     cursor = conn.cursor()\n",
    "    \n",
    "#     # Create table if not exists\n",
    "#     cursor.execute('''CREATE TABLE IF NOT EXISTS yellow_tripdata_2023_01 (\n",
    "#                             id SERIAL PRIMARY KEY,\n",
    "#                             VendorID TEXT, \n",
    "#                             tpep_pickup_datetime TEXT,\n",
    "#                             tpep_dropoff_datetime TEXT,\n",
    "#                             passenger_count TEXT,\n",
    "#                             trip_distance TEXT,\n",
    "#                             RatecodeID TEXT,\n",
    "#                             store_and_fwd_flag TEXT,\n",
    "#                             PULocationID TEXT,\n",
    "#                             DOLocationID TEXT,\n",
    "#                             payment_type TEXT,\n",
    "#                             fare_amount TEXT,\n",
    "#                             extra TEXT,\n",
    "#                             mta_tax TEXT,\n",
    "#                             tip_amount TEXT,\n",
    "#                             tolls_amount TEXT,\n",
    "#                             improvement_surcharge TEXT,\n",
    "#                             total_amount TEXT,\n",
    "#                             congestion_surcharge TEXT,\n",
    "#                             airport_fee TEXT);''')\n",
    "    \n",
    "#     # Commit the table creation\n",
    "#     conn.commit()\n",
    "#     print(\"Table 'yellow_tripdata_2023_01' created successfully\")\n",
    "    \n",
    "#     # Load CSV file into a DataFrame skipping the header row\n",
    "#     df = pd.read_csv('yellow_tripdata_2023-01.csv', skiprows=1, low_memory=False) \n",
    "    \n",
    "#     # Prepare data as a list of tuples\n",
    "#     data = [tuple(row) for row in df.itertuples(index=False, name=None)]\n",
    "    \n",
    "#     # Construct the INSERT INTO statement\n",
    "#     insert_query = \"\"\"\n",
    "#         INSERT INTO yellow_tripdata_2023_01 (VendorID, tpep_pickup_datetime, tpep_dropoff_datetime, passenger_count, \n",
    "#         trip_distance, RatecodeID, store_and_fwd_flag, PULocationID, DOLocationID, payment_type, fare_amount, extra, \n",
    "#         mta_tax, tip_amount, tolls_amount, improvement_surcharge, total_amount, congestion_surcharge, airport_fee)\n",
    "#         VALUES %s\n",
    "#     \"\"\"\n",
    "    \n",
    "#     # Execute the INSERT INTO statement using execute_values()\n",
    "#     extras.execute_values(cursor, insert_query, data, page_size=100000) #page_size is number of rows to be inserted  \n",
    "    \n",
    "#     # Committing the transaction\n",
    "#     conn.commit()\n",
    "#     print(\"Data inserted successfully\")\n",
    "\n",
    "# except (Exception, psycopg2.Error) as error:\n",
    "#     print(\"Error while connecting to PostgreSQL or inserting data:\", error)\n",
    "\n",
    "# finally:\n",
    "#     # Closing the connection\n",
    "#     if conn:\n",
    "#         cursor.close()\n",
    "#         conn.close()\n",
    "#         print(\"PostgreSQL connection is closed\")\n"
   ]
  },
  {
   "cell_type": "code",
   "execution_count": 25,
   "id": "d46d9db6-3ea2-40bb-a10c-b94be2667761",
   "metadata": {},
   "outputs": [
    {
     "name": "stdout",
     "output_type": "stream",
     "text": [
      "<class 'pandas.core.frame.DataFrame'>\n",
      "RangeIndex: 263 entries, 0 to 262\n",
      "Data columns (total 7 columns):\n",
      " #   Column      Non-Null Count  Dtype  \n",
      "---  ------      --------------  -----  \n",
      " 0   OBJECTID    263 non-null    int64  \n",
      " 1   Shape_Leng  263 non-null    float64\n",
      " 2   the_geom    263 non-null    object \n",
      " 3   Shape_Area  263 non-null    float64\n",
      " 4   zone        263 non-null    object \n",
      " 5   LocationID  263 non-null    int64  \n",
      " 6   borough     263 non-null    object \n",
      "dtypes: float64(2), int64(2), object(3)\n",
      "memory usage: 14.5+ KB\n"
     ]
    }
   ],
   "source": [
    "taxi_zone_df.info()"
   ]
  },
  {
   "cell_type": "code",
   "execution_count": null,
   "id": "aa4e6e21",
   "metadata": {},
   "outputs": [],
   "source": []
  },
  {
   "cell_type": "code",
   "execution_count": null,
   "id": "b7f278a3",
   "metadata": {},
   "outputs": [],
   "source": []
  },
  {
   "cell_type": "code",
   "execution_count": null,
   "id": "a8752682-0785-41fd-bef8-020650ccf828",
   "metadata": {},
   "outputs": [],
   "source": []
  },
  {
   "cell_type": "code",
   "execution_count": null,
   "id": "8d43080d-41aa-45e3-b77f-3072e876e496",
   "metadata": {},
   "outputs": [],
   "source": []
  },
  {
   "cell_type": "code",
   "execution_count": null,
   "id": "ffd6159e-1c39-4010-840c-8350b1967be3",
   "metadata": {},
   "outputs": [],
   "source": []
  },
  {
   "cell_type": "code",
   "execution_count": null,
   "id": "4cbf586b-77bf-47ed-9833-f7e802ac952e",
   "metadata": {},
   "outputs": [],
   "source": []
  },
  {
   "cell_type": "code",
   "execution_count": null,
   "id": "2b9f1287-70c1-4d2d-b4dc-5ea7c83284af",
   "metadata": {},
   "outputs": [],
   "source": []
  },
  {
   "cell_type": "code",
   "execution_count": null,
   "id": "991a23ce-1204-4a8e-b070-4052e5750d38",
   "metadata": {},
   "outputs": [],
   "source": []
  },
  {
   "cell_type": "code",
   "execution_count": null,
   "id": "f62b8a49-796b-4043-88b0-4bef968c31cd",
   "metadata": {},
   "outputs": [],
   "source": []
  },
  {
   "cell_type": "code",
   "execution_count": null,
   "id": "d69ac110-51c7-46dd-808c-e194a882152d",
   "metadata": {},
   "outputs": [],
   "source": []
  },
  {
   "cell_type": "code",
   "execution_count": null,
   "id": "7fda882b-0dec-4b68-93df-da90f85b8a7c",
   "metadata": {},
   "outputs": [],
   "source": []
  },
  {
   "cell_type": "code",
   "execution_count": null,
   "id": "8572f821-37cb-487f-b26f-ea320d49329a",
   "metadata": {},
   "outputs": [],
   "source": []
  },
  {
   "cell_type": "code",
   "execution_count": null,
   "id": "767ffbbe-7124-4455-896c-0f99b734f396",
   "metadata": {},
   "outputs": [],
   "source": []
  }
 ],
 "metadata": {
  "kernelspec": {
   "display_name": "Python 3 (ipykernel)",
   "language": "python",
   "name": "python3"
  },
  "language_info": {
   "codemirror_mode": {
    "name": "ipython",
    "version": 3
   },
   "file_extension": ".py",
   "mimetype": "text/x-python",
   "name": "python",
   "nbconvert_exporter": "python",
   "pygments_lexer": "ipython3",
   "version": "3.10.12"
  }
 },
 "nbformat": 4,
 "nbformat_minor": 5
}
