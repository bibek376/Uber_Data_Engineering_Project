{
 "cells": [
  {
   "cell_type": "code",
   "execution_count": 2,
   "id": "67df7aca",
   "metadata": {},
   "outputs": [],
   "source": [
    "import pandas as pd"
   ]
  },
  {
   "cell_type": "code",
   "execution_count": 5,
   "id": "03698f36",
   "metadata": {},
   "outputs": [],
   "source": [
    "df=pd.read_csv('yellow_tripdata_2023-01.csv',low_memory=False)"
   ]
  },
  {
   "cell_type": "code",
   "execution_count": 6,
   "id": "4439a549",
   "metadata": {},
   "outputs": [
    {
     "data": {
      "text/html": [
       "<div>\n",
       "<style scoped>\n",
       "    .dataframe tbody tr th:only-of-type {\n",
       "        vertical-align: middle;\n",
       "    }\n",
       "\n",
       "    .dataframe tbody tr th {\n",
       "        vertical-align: top;\n",
       "    }\n",
       "\n",
       "    .dataframe thead th {\n",
       "        text-align: right;\n",
       "    }\n",
       "</style>\n",
       "<table border=\"1\" class=\"dataframe\">\n",
       "  <thead>\n",
       "    <tr style=\"text-align: right;\">\n",
       "      <th></th>\n",
       "      <th>VendorID</th>\n",
       "      <th>tpep_pickup_datetime</th>\n",
       "      <th>tpep_dropoff_datetime</th>\n",
       "      <th>passenger_count</th>\n",
       "      <th>trip_distance</th>\n",
       "      <th>RatecodeID</th>\n",
       "      <th>store_and_fwd_flag</th>\n",
       "      <th>PULocationID</th>\n",
       "      <th>DOLocationID</th>\n",
       "      <th>payment_type</th>\n",
       "      <th>fare_amount</th>\n",
       "      <th>extra</th>\n",
       "      <th>mta_tax</th>\n",
       "      <th>tip_amount</th>\n",
       "      <th>tolls_amount</th>\n",
       "      <th>improvement_surcharge</th>\n",
       "      <th>total_amount</th>\n",
       "      <th>congestion_surcharge</th>\n",
       "      <th>airport_fee</th>\n",
       "    </tr>\n",
       "  </thead>\n",
       "  <tbody>\n",
       "    <tr>\n",
       "      <th>2482634</th>\n",
       "      <td>2</td>\n",
       "      <td>2023-01-26 19:41:48</td>\n",
       "      <td>2023-01-26 19:41:55</td>\n",
       "      <td>1.0</td>\n",
       "      <td>0.0</td>\n",
       "      <td>1.0</td>\n",
       "      <td>N</td>\n",
       "      <td>213</td>\n",
       "      <td>213</td>\n",
       "      <td>4</td>\n",
       "      <td>-3.0</td>\n",
       "      <td>-2.5</td>\n",
       "      <td>-0.5</td>\n",
       "      <td>0.0</td>\n",
       "      <td>0.0</td>\n",
       "      <td>-1.0</td>\n",
       "      <td>-7.0</td>\n",
       "      <td>0.0</td>\n",
       "      <td>0.0</td>\n",
       "    </tr>\n",
       "    <tr>\n",
       "      <th>335778</th>\n",
       "      <td>2</td>\n",
       "      <td>2023-01-05 10:29:30</td>\n",
       "      <td>2023-01-05 10:40:35</td>\n",
       "      <td>1.0</td>\n",
       "      <td>1.21</td>\n",
       "      <td>1.0</td>\n",
       "      <td>N</td>\n",
       "      <td>230</td>\n",
       "      <td>186</td>\n",
       "      <td>1</td>\n",
       "      <td>10.7</td>\n",
       "      <td>0.0</td>\n",
       "      <td>0.5</td>\n",
       "      <td>2.94</td>\n",
       "      <td>0.0</td>\n",
       "      <td>1.0</td>\n",
       "      <td>17.64</td>\n",
       "      <td>2.5</td>\n",
       "      <td>0.0</td>\n",
       "    </tr>\n",
       "    <tr>\n",
       "      <th>1665020</th>\n",
       "      <td>2</td>\n",
       "      <td>2023-01-18 19:58:55</td>\n",
       "      <td>2023-01-18 20:03:34</td>\n",
       "      <td>1.0</td>\n",
       "      <td>0.85</td>\n",
       "      <td>1.0</td>\n",
       "      <td>N</td>\n",
       "      <td>249</td>\n",
       "      <td>234</td>\n",
       "      <td>1</td>\n",
       "      <td>6.5</td>\n",
       "      <td>2.5</td>\n",
       "      <td>0.5</td>\n",
       "      <td>1.0</td>\n",
       "      <td>0.0</td>\n",
       "      <td>1.0</td>\n",
       "      <td>14.0</td>\n",
       "      <td>2.5</td>\n",
       "      <td>0.0</td>\n",
       "    </tr>\n",
       "  </tbody>\n",
       "</table>\n",
       "</div>"
      ],
      "text/plain": [
       "        VendorID tpep_pickup_datetime tpep_dropoff_datetime passenger_count  \\\n",
       "2482634        2  2023-01-26 19:41:48   2023-01-26 19:41:55             1.0   \n",
       "335778         2  2023-01-05 10:29:30   2023-01-05 10:40:35             1.0   \n",
       "1665020        2  2023-01-18 19:58:55   2023-01-18 20:03:34             1.0   \n",
       "\n",
       "        trip_distance RatecodeID store_and_fwd_flag PULocationID DOLocationID  \\\n",
       "2482634           0.0        1.0                  N          213          213   \n",
       "335778           1.21        1.0                  N          230          186   \n",
       "1665020          0.85        1.0                  N          249          234   \n",
       "\n",
       "        payment_type fare_amount extra mta_tax tip_amount tolls_amount  \\\n",
       "2482634            4        -3.0  -2.5    -0.5        0.0          0.0   \n",
       "335778             1        10.7   0.0     0.5       2.94          0.0   \n",
       "1665020            1         6.5   2.5     0.5        1.0          0.0   \n",
       "\n",
       "        improvement_surcharge total_amount congestion_surcharge airport_fee  \n",
       "2482634                  -1.0         -7.0                  0.0         0.0  \n",
       "335778                    1.0        17.64                  2.5         0.0  \n",
       "1665020                   1.0         14.0                  2.5         0.0  "
      ]
     },
     "execution_count": 6,
     "metadata": {},
     "output_type": "execute_result"
    }
   ],
   "source": [
    "df.sample(3)"
   ]
  },
  {
   "cell_type": "code",
   "execution_count": 29,
   "id": "ac6a5d5e",
   "metadata": {},
   "outputs": [
    {
     "data": {
      "text/plain": [
       "(3066766, 19)"
      ]
     },
     "execution_count": 29,
     "metadata": {},
     "output_type": "execute_result"
    }
   ],
   "source": [
    "#total number of rows and column (3066812, 19)\n",
    "df.shape\n"
   ]
  },
  {
   "cell_type": "code",
   "execution_count": 5,
   "id": "60442aae",
   "metadata": {},
   "outputs": [
    {
     "name": "stdout",
     "output_type": "stream",
     "text": [
      "Total null value in PULocationID 0\n",
      "Total null value in DOLocationID 0\n"
     ]
    }
   ],
   "source": [
    "#Check null value in PULocationID and DOLocationID column\n",
    "check_null_value_in_pulocationid=df['PULocationID'].isnull().sum()\n",
    "check_null_value_in_dolocationid=df['DOLocationID'].isnull().sum()\n",
    "print(\"Total null value in PULocationID\", check_null_value_in_pulocationid)\n",
    "print(\"Total null value in DOLocationID\", check_null_value_in_dolocationid)"
   ]
  },
  {
   "cell_type": "code",
   "execution_count": 6,
   "id": "83ba0a7a",
   "metadata": {},
   "outputs": [
    {
     "name": "stdout",
     "output_type": "stream",
     "text": [
      "71743\n"
     ]
    }
   ],
   "source": [
    "#Check distinct value in PULocationID and DOLocationID column\n",
    "print(df['passenger_count'].isnull().sum())"
   ]
  },
  {
   "cell_type": "code",
   "execution_count": 7,
   "id": "b7e2c170",
   "metadata": {},
   "outputs": [
    {
     "name": "stdout",
     "output_type": "stream",
     "text": [
      "<class 'pandas.core.frame.DataFrame'>\n",
      "RangeIndex: 3066812 entries, 0 to 3066811\n",
      "Data columns (total 19 columns):\n",
      " #   Column                 Dtype \n",
      "---  ------                 ----- \n",
      " 0   VendorID               object\n",
      " 1   tpep_pickup_datetime   object\n",
      " 2   tpep_dropoff_datetime  object\n",
      " 3   passenger_count        object\n",
      " 4   trip_distance          object\n",
      " 5   RatecodeID             object\n",
      " 6   store_and_fwd_flag     object\n",
      " 7   PULocationID           object\n",
      " 8   DOLocationID           object\n",
      " 9   payment_type           object\n",
      " 10  fare_amount            object\n",
      " 11  extra                  object\n",
      " 12  mta_tax                object\n",
      " 13  tip_amount             object\n",
      " 14  tolls_amount           object\n",
      " 15  improvement_surcharge  object\n",
      " 16  total_amount           object\n",
      " 17  congestion_surcharge   object\n",
      " 18  airport_fee            object\n",
      "dtypes: object(19)\n",
      "memory usage: 444.6+ MB\n"
     ]
    }
   ],
   "source": [
    "#Check the data types of all present column in df dataframe\n",
    "df.info()"
   ]
  },
  {
   "cell_type": "code",
   "execution_count": 20,
   "id": "4e39ca99",
   "metadata": {},
   "outputs": [
    {
     "name": "stdout",
     "output_type": "stream",
     "text": [
      "[2 1]\n"
     ]
    }
   ],
   "source": [
    "#convert all the column in proper data type\n",
    "#df['VendorID']=pd.to_numeric(df['VendorID'],downcast='integer')\n",
    "print(df['VendorID'].unique())"
   ]
  },
  {
   "cell_type": "code",
   "execution_count": 21,
   "id": "29f7bbb1",
   "metadata": {},
   "outputs": [
    {
     "name": "stdout",
     "output_type": "stream",
     "text": [
      "Count of distinct values in 'VendorID' column: 2\n"
     ]
    }
   ],
   "source": [
    "distinct_count = len(df['VendorID'].unique())\n",
    "print(\"Count of distinct values in 'VendorID' column:\", distinct_count)"
   ]
  },
  {
   "cell_type": "code",
   "execution_count": 10,
   "id": "84d6319a",
   "metadata": {},
   "outputs": [],
   "source": [
    "df1=pd.read_csv('taxi+_zone_lookup.csv')"
   ]
  },
  {
   "cell_type": "code",
   "execution_count": 11,
   "id": "24b7bebc",
   "metadata": {},
   "outputs": [
    {
     "data": {
      "text/html": [
       "<div>\n",
       "<style scoped>\n",
       "    .dataframe tbody tr th:only-of-type {\n",
       "        vertical-align: middle;\n",
       "    }\n",
       "\n",
       "    .dataframe tbody tr th {\n",
       "        vertical-align: top;\n",
       "    }\n",
       "\n",
       "    .dataframe thead th {\n",
       "        text-align: right;\n",
       "    }\n",
       "</style>\n",
       "<table border=\"1\" class=\"dataframe\">\n",
       "  <thead>\n",
       "    <tr style=\"text-align: right;\">\n",
       "      <th></th>\n",
       "      <th>LocationID</th>\n",
       "      <th>Borough</th>\n",
       "      <th>Zone</th>\n",
       "      <th>service_zone</th>\n",
       "    </tr>\n",
       "  </thead>\n",
       "  <tbody>\n",
       "    <tr>\n",
       "      <th>9</th>\n",
       "      <td>10</td>\n",
       "      <td>Queens</td>\n",
       "      <td>Baisley Park</td>\n",
       "      <td>Boro Zone</td>\n",
       "    </tr>\n",
       "    <tr>\n",
       "      <th>198</th>\n",
       "      <td>199</td>\n",
       "      <td>Bronx</td>\n",
       "      <td>Rikers Island</td>\n",
       "      <td>Boro Zone</td>\n",
       "    </tr>\n",
       "  </tbody>\n",
       "</table>\n",
       "</div>"
      ],
      "text/plain": [
       "     LocationID Borough           Zone service_zone\n",
       "9            10  Queens   Baisley Park    Boro Zone\n",
       "198         199   Bronx  Rikers Island    Boro Zone"
      ]
     },
     "execution_count": 11,
     "metadata": {},
     "output_type": "execute_result"
    }
   ],
   "source": [
    "df1.sample(2)"
   ]
  },
  {
   "cell_type": "code",
   "execution_count": 12,
   "id": "dfc232a7",
   "metadata": {},
   "outputs": [
    {
     "name": "stdout",
     "output_type": "stream",
     "text": [
      "<class 'pandas.core.frame.DataFrame'>\n",
      "RangeIndex: 265 entries, 0 to 264\n",
      "Data columns (total 4 columns):\n",
      " #   Column        Non-Null Count  Dtype \n",
      "---  ------        --------------  ----- \n",
      " 0   LocationID    265 non-null    int64 \n",
      " 1   Borough       265 non-null    object\n",
      " 2   Zone          264 non-null    object\n",
      " 3   service_zone  263 non-null    object\n",
      "dtypes: int64(1), object(3)\n",
      "memory usage: 8.4+ KB\n"
     ]
    }
   ],
   "source": [
    "df1.info()"
   ]
  },
  {
   "cell_type": "code",
   "execution_count": 27,
   "id": "97b9e7fc",
   "metadata": {},
   "outputs": [],
   "source": [
    "df = df[df['tpep_dropoff_datetime'] != 'tpep_dropoff_datetime']"
   ]
  },
  {
   "cell_type": "code",
   "execution_count": 28,
   "id": "0779c246",
   "metadata": {},
   "outputs": [],
   "source": [
    "df['VendorID']=pd.to_numeric(df['VendorID'],downcast='integer')\n",
    "df['tpep_pickup_datetime']=pd.to_datetime(df['tpep_pickup_datetime'])\n",
    "df['tpep_dropoff_datetime']=pd.to_datetime(df['tpep_dropoff_datetime'])\n",
    "df['passenger_count']=pd.to_numeric(df['passenger_count'],downcast='integer')"
   ]
  },
  {
   "cell_type": "code",
   "execution_count": null,
   "id": "b6817eee",
   "metadata": {},
   "outputs": [],
   "source": [
    "df['trip_distance']=pd.to_datetime(df['trip_distance'])\n",
    "df['RatecodeID']=pd.to_datetime(df['RatecodeID'])\n",
    "df['store_and_fwd_flag']=pd.to_datetime(df['store_and_fwd_flag'])\n",
    "df['PULocationID']=pd.to_datetime(df['PULocationID'])\n",
    "df['DOLocationID']=pd.to_datetime(df['DOLocationID'])\n",
    "df['payment_type']=pd.to_datetime(df['payment_type'])\n",
    "df['fare_amount']=pd.to_datetime(df['fare_amount'])\n",
    "df['extra']=pd.to_datetime(df['extra'])\n",
    "df['mta_tax']=pd.to_datetime(df['mta_tax'])\n",
    "df['tip_amount']=pd.to_datetime(df['tip_amount'])\n",
    "df['tolls_amount']=pd.to_datetime(df['tolls_amount'])\n",
    "df['improvement_surcharge']=pd.to_datetime(df['improvement_surcharge'])\n",
    "df['total_amount']=pd.to_datetime(df['total_amount'])\n",
    "df['congestion_surcharge']=pd.to_datetime(df['congestion_surcharge'])\n",
    "df['airport_fee']=pd.to_datetime(df['airport_fee'])"
   ]
  },
  {
   "cell_type": "code",
   "execution_count": 17,
   "id": "2748e860",
   "metadata": {},
   "outputs": [
    {
     "name": "stdout",
     "output_type": "stream",
     "text": [
      "<class 'pandas.core.frame.DataFrame'>\n",
      "Index: 3066766 entries, 0 to 3066811\n",
      "Data columns (total 19 columns):\n",
      " #   Column                 Dtype         \n",
      "---  ------                 -----         \n",
      " 0   VendorID               int8          \n",
      " 1   tpep_pickup_datetime   datetime64[ns]\n",
      " 2   tpep_dropoff_datetime  datetime64[ns]\n",
      " 3   passenger_count        float64       \n",
      " 4   trip_distance          object        \n",
      " 5   RatecodeID             object        \n",
      " 6   store_and_fwd_flag     object        \n",
      " 7   PULocationID           object        \n",
      " 8   DOLocationID           object        \n",
      " 9   payment_type           object        \n",
      " 10  fare_amount            object        \n",
      " 11  extra                  object        \n",
      " 12  mta_tax                object        \n",
      " 13  tip_amount             object        \n",
      " 14  tolls_amount           object        \n",
      " 15  improvement_surcharge  object        \n",
      " 16  total_amount           object        \n",
      " 17  congestion_surcharge   object        \n",
      " 18  airport_fee            object        \n",
      "dtypes: datetime64[ns](2), float64(1), int8(1), object(15)\n",
      "memory usage: 447.5+ MB\n"
     ]
    }
   ],
   "source": [
    "df.info()"
   ]
  },
  {
   "cell_type": "code",
   "execution_count": null,
   "id": "bf7ad426",
   "metadata": {},
   "outputs": [],
   "source": []
  },
  {
   "cell_type": "code",
   "execution_count": null,
   "id": "3ac910da",
   "metadata": {},
   "outputs": [],
   "source": []
  },
  {
   "cell_type": "code",
   "execution_count": null,
   "id": "7e43a2ee",
   "metadata": {},
   "outputs": [],
   "source": []
  },
  {
   "cell_type": "markdown",
   "id": "aab87a2b",
   "metadata": {},
   "source": [
    "Load both file in postgreSQL datbase for data cleaning "
   ]
  },
  {
   "cell_type": "code",
   "execution_count": 70,
   "id": "023dfd83",
   "metadata": {},
   "outputs": [
    {
     "name": "stdout",
     "output_type": "stream",
     "text": [
      "yellow_tripdata_2023_01 has been created successfully\n",
      "PostgreSQL connection is closed\n"
     ]
    }
   ],
   "source": [
    "# import psycopg2\n",
    "\n",
    "# try:\n",
    "#     #Establishing the connection\n",
    "#     conn=psycopg2.connect(\n",
    "#     database=\"postgres\", user='postgres', password='password', host='127.0.0.1', port='5432')\n",
    "    \n",
    "#     #Creating a cursor object using the cursor() method\n",
    "#     cursor = conn.cursor()\n",
    "    \n",
    "#     # Executing a PostgreSQL function using the execute() method\n",
    "#     cursor.execute('''create table yellow_tripdata_2023_01(id SERIAL PRIMARY key,\n",
    "#                             VendorID text, \n",
    "#                             tpep_pickup_datetime text,\n",
    "#                             tpep_dropoff_datetime text,\n",
    "#                             passenger_count text,\n",
    "#                             trip_distance text,\n",
    "#                             RatecodeID text,\n",
    "#                             store_and_fwd_flag text,\n",
    "#                             PULocationID text,\n",
    "#                             DOLocationID text,\n",
    "#                             payment_type text,\n",
    "#                             fare_amount text,\n",
    "#                             extra text,\n",
    "#                             mta_tax text,\n",
    "#                             tip_amount text,\n",
    "#                             tolls_amount text,\n",
    "#                             improvement_surcharge text,\n",
    "#                             total_amount text,\n",
    "#                             congestion_surcharge text,\n",
    "#                             airport_fee text);''')\n",
    "#     conn.commit()\n",
    "#     print(\"yellow_tripdata_2023_01 has been created successfully\")\n",
    "\n",
    "# except(Exception, psycopg2.Error):\n",
    "#     print(\"Error while connecting to PostgreSQL\", error)\n",
    "\n",
    "# finally:\n",
    "#     #Closing the connection\n",
    "#     if conn:\n",
    "#         cursor.close()\n",
    "#         conn.close()\n",
    "#         print(\"PostgreSQL connection is closed\")\n",
    "    "
   ]
  },
  {
   "cell_type": "code",
   "execution_count": 12,
   "id": "ace5c646",
   "metadata": {},
   "outputs": [
    {
     "name": "stderr",
     "output_type": "stream",
     "text": [
      "/tmp/ipykernel_17998/4041931336.py:1: DtypeWarning: Columns (0,3,4,5,6,7,8,9,10,11,12,13,14,15,16,17,18) have mixed types. Specify dtype option on import or set low_memory=False.\n",
      "  df_test = pd.read_csv('yellow_tripdata_2023-01.csv', skiprows=1)\n"
     ]
    }
   ],
   "source": [
    "df_test = pd.read_csv('yellow_tripdata_2023-01.csv', skiprows=1)"
   ]
  },
  {
   "cell_type": "code",
   "execution_count": 13,
   "id": "9a1a287c",
   "metadata": {},
   "outputs": [
    {
     "data": {
      "text/html": [
       "<div>\n",
       "<style scoped>\n",
       "    .dataframe tbody tr th:only-of-type {\n",
       "        vertical-align: middle;\n",
       "    }\n",
       "\n",
       "    .dataframe tbody tr th {\n",
       "        vertical-align: top;\n",
       "    }\n",
       "\n",
       "    .dataframe thead th {\n",
       "        text-align: right;\n",
       "    }\n",
       "</style>\n",
       "<table border=\"1\" class=\"dataframe\">\n",
       "  <thead>\n",
       "    <tr style=\"text-align: right;\">\n",
       "      <th></th>\n",
       "      <th>2</th>\n",
       "      <th>2023-01-01 00:32:10</th>\n",
       "      <th>2023-01-01 00:40:36</th>\n",
       "      <th>1.0</th>\n",
       "      <th>0.97</th>\n",
       "      <th>1.0.1</th>\n",
       "      <th>N</th>\n",
       "      <th>161</th>\n",
       "      <th>141</th>\n",
       "      <th>2.1</th>\n",
       "      <th>9.3</th>\n",
       "      <th>1.0.2</th>\n",
       "      <th>0.5</th>\n",
       "      <th>0.0</th>\n",
       "      <th>0.0.1</th>\n",
       "      <th>1.0.3</th>\n",
       "      <th>14.3</th>\n",
       "      <th>2.5</th>\n",
       "      <th>0.0.2</th>\n",
       "    </tr>\n",
       "  </thead>\n",
       "  <tbody>\n",
       "    <tr>\n",
       "      <th>63888</th>\n",
       "      <td>2</td>\n",
       "      <td>2023-01-01 20:37:14</td>\n",
       "      <td>2023-01-01 20:45:27</td>\n",
       "      <td>1.0</td>\n",
       "      <td>2.21</td>\n",
       "      <td>1.0</td>\n",
       "      <td>N</td>\n",
       "      <td>142</td>\n",
       "      <td>151</td>\n",
       "      <td>1</td>\n",
       "      <td>12.1</td>\n",
       "      <td>1.0</td>\n",
       "      <td>0.5</td>\n",
       "      <td>3.42</td>\n",
       "      <td>0.0</td>\n",
       "      <td>1.0</td>\n",
       "      <td>20.52</td>\n",
       "      <td>2.5</td>\n",
       "      <td>0.0</td>\n",
       "    </tr>\n",
       "    <tr>\n",
       "      <th>2105760</th>\n",
       "      <td>2</td>\n",
       "      <td>2023-01-23 05:33:06</td>\n",
       "      <td>2023-01-23 05:38:51</td>\n",
       "      <td>2.0</td>\n",
       "      <td>1.24</td>\n",
       "      <td>1.0</td>\n",
       "      <td>N</td>\n",
       "      <td>186</td>\n",
       "      <td>233</td>\n",
       "      <td>1</td>\n",
       "      <td>8.6</td>\n",
       "      <td>1.0</td>\n",
       "      <td>0.5</td>\n",
       "      <td>2.72</td>\n",
       "      <td>0.0</td>\n",
       "      <td>1.0</td>\n",
       "      <td>16.32</td>\n",
       "      <td>2.5</td>\n",
       "      <td>0.0</td>\n",
       "    </tr>\n",
       "    <tr>\n",
       "      <th>2337212</th>\n",
       "      <td>2</td>\n",
       "      <td>2023-01-25 14:57:51</td>\n",
       "      <td>2023-01-25 15:08:43</td>\n",
       "      <td>1.0</td>\n",
       "      <td>2.87</td>\n",
       "      <td>1.0</td>\n",
       "      <td>Y</td>\n",
       "      <td>233</td>\n",
       "      <td>232</td>\n",
       "      <td>1</td>\n",
       "      <td>15.6</td>\n",
       "      <td>0.0</td>\n",
       "      <td>0.5</td>\n",
       "      <td>5.88</td>\n",
       "      <td>0.0</td>\n",
       "      <td>1.0</td>\n",
       "      <td>25.48</td>\n",
       "      <td>2.5</td>\n",
       "      <td>0.0</td>\n",
       "    </tr>\n",
       "    <tr>\n",
       "      <th>2468569</th>\n",
       "      <td>2</td>\n",
       "      <td>2023-01-26 17:05:10</td>\n",
       "      <td>2023-01-26 17:57:30</td>\n",
       "      <td>1.0</td>\n",
       "      <td>11.48</td>\n",
       "      <td>1.0</td>\n",
       "      <td>N</td>\n",
       "      <td>142</td>\n",
       "      <td>181</td>\n",
       "      <td>1</td>\n",
       "      <td>57.6</td>\n",
       "      <td>2.5</td>\n",
       "      <td>0.5</td>\n",
       "      <td>10.0</td>\n",
       "      <td>6.55</td>\n",
       "      <td>1.0</td>\n",
       "      <td>80.65</td>\n",
       "      <td>2.5</td>\n",
       "      <td>0.0</td>\n",
       "    </tr>\n",
       "  </tbody>\n",
       "</table>\n",
       "</div>"
      ],
      "text/plain": [
       "         2  2023-01-01 00:32:10  2023-01-01 00:40:36  1.0   0.97 1.0.1  N  \\\n",
       "63888    2  2023-01-01 20:37:14  2023-01-01 20:45:27  1.0   2.21   1.0  N   \n",
       "2105760  2  2023-01-23 05:33:06  2023-01-23 05:38:51  2.0   1.24   1.0  N   \n",
       "2337212  2  2023-01-25 14:57:51  2023-01-25 15:08:43  1.0   2.87   1.0  Y   \n",
       "2468569  2  2023-01-26 17:05:10  2023-01-26 17:57:30  1.0  11.48   1.0  N   \n",
       "\n",
       "         161  141 2.1   9.3 1.0.2  0.5   0.0 0.0.1 1.0.3   14.3  2.5 0.0.2  \n",
       "63888    142  151   1  12.1   1.0  0.5  3.42   0.0   1.0  20.52  2.5   0.0  \n",
       "2105760  186  233   1   8.6   1.0  0.5  2.72   0.0   1.0  16.32  2.5   0.0  \n",
       "2337212  233  232   1  15.6   0.0  0.5  5.88   0.0   1.0  25.48  2.5   0.0  \n",
       "2468569  142  181   1  57.6   2.5  0.5  10.0  6.55   1.0  80.65  2.5   0.0  "
      ]
     },
     "execution_count": 13,
     "metadata": {},
     "output_type": "execute_result"
    }
   ],
   "source": [
    "df_test.sample(4)"
   ]
  },
  {
   "cell_type": "code",
   "execution_count": 14,
   "id": "e3474982",
   "metadata": {},
   "outputs": [
    {
     "name": "stdout",
     "output_type": "stream",
     "text": [
      "Index: 0\n",
      "Row data:\n",
      "VendorID                                   2\n",
      "tpep_pickup_datetime     2023-01-01 00:32:10\n",
      "tpep_dropoff_datetime    2023-01-01 00:40:36\n",
      "passenger_count                          1.0\n",
      "trip_distance                           0.97\n",
      "RatecodeID                               1.0\n",
      "store_and_fwd_flag                         N\n",
      "PULocationID                             161\n",
      "DOLocationID                             141\n",
      "payment_type                               2\n",
      "fare_amount                              9.3\n",
      "extra                                    1.0\n",
      "mta_tax                                  0.5\n",
      "tip_amount                               0.0\n",
      "tolls_amount                             0.0\n",
      "improvement_surcharge                    1.0\n",
      "total_amount                            14.3\n",
      "congestion_surcharge                     2.5\n",
      "airport_fee                              0.0\n",
      "Name: 0, dtype: object\n",
      "\n"
     ]
    }
   ],
   "source": [
    "for index, row in df.iterrows():\n",
    "    print(f\"Index: {index}\")\n",
    "    print(f\"Row data:\\n{row}\\n\")\n",
    "    break;"
   ]
  },
  {
   "cell_type": "code",
   "execution_count": 72,
   "id": "32016883",
   "metadata": {},
   "outputs": [],
   "source": [
    "# #Insert all the csv data into tables\n",
    "# import psycopg2\n",
    "# import pandas as pd\n",
    "# from psycopg2 import extras\n",
    "\n",
    "# try:\n",
    "#     # Establishing the connection\n",
    "#     conn = psycopg2.connect(\n",
    "#         database=\"postgres\", user='postgres', password='password', host='127.0.0.1', port='5432')\n",
    "    \n",
    "#     # Creating a cursor object using the cursor() method\n",
    "#     cursor = conn.cursor()\n",
    "    \n",
    "#     # Load CSV file into a DataFrame skipping the header row\n",
    "#     df = pd.read_csv('yellow_tripdata_2023-01.csv', skiprows=1,low_memory=False)  # Adjust the file path as necessary\n",
    "    \n",
    "#     # Insert DataFrame records into PostgreSQL table\n",
    "#     for index, row in df.iterrows():\n",
    "#         cursor.execute(\"\"\"\n",
    "#             INSERT INTO yellow_tripdata_2023_01 (VendorID, tpep_pickup_datetime, tpep_dropoff_datetime, passenger_count, \n",
    "#             trip_distance, RatecodeID, store_and_fwd_flag, PULocationID, DOLocationID, payment_type, fare_amount, extra, \n",
    "#             mta_tax, tip_amount, tolls_amount, improvement_surcharge, total_amount, congestion_surcharge, airport_fee)\n",
    "#             VALUES (%s, %s, %s, %s, %s, %s, %s, %s, %s, %s, %s, %s, %s, %s, %s, %s, %s, %s, %s)\n",
    "#         \"\"\", tuple(row))\n",
    "\n",
    "#         # Committing the transaction\n",
    "#         conn.commit()\n",
    "#     print(\"Data inserted successfully\")\n",
    "\n",
    "# except(Exception, psycopg2.Error) as error:\n",
    "#     print(\"Error while connecting to PostgreSQL\", error)\n",
    "\n",
    "# finally:\n",
    "#     # Closing the connection\n",
    "#     if conn:\n",
    "#         cursor.close()\n",
    "#         conn.close()\n",
    "#         print(\"PostgreSQL connection is closed\")\n"
   ]
  },
  {
   "cell_type": "markdown",
   "id": "ba73fe4c",
   "metadata": {},
   "source": [
    "Table creation and Data insertation at a time."
   ]
  },
  {
   "cell_type": "code",
   "execution_count": 15,
   "id": "e83e4443",
   "metadata": {},
   "outputs": [
    {
     "name": "stdout",
     "output_type": "stream",
     "text": [
      "Table 'yellow_tripdata_2023_01' created successfully\n",
      "Data inserted successfully\n",
      "PostgreSQL connection is closed\n"
     ]
    }
   ],
   "source": [
    "# import psycopg2\n",
    "# import pandas as pd\n",
    "# from psycopg2 import extras\n",
    "\n",
    "# try:\n",
    "#     # Establishing the connection\n",
    "#     conn = psycopg2.connect(\n",
    "#         database=\"postgres\", user='postgres', password='password', host='127.0.0.1', port='5432')\n",
    "    \n",
    "#     # Creating a cursor object using the cursor() method\n",
    "#     cursor = conn.cursor()\n",
    "    \n",
    "#     # Create table if not exists\n",
    "#     cursor.execute('''CREATE TABLE IF NOT EXISTS yellow_tripdata_2023_01 (\n",
    "#                             id SERIAL PRIMARY KEY,\n",
    "#                             VendorID TEXT, \n",
    "#                             tpep_pickup_datetime TEXT,\n",
    "#                             tpep_dropoff_datetime TEXT,\n",
    "#                             passenger_count TEXT,\n",
    "#                             trip_distance TEXT,\n",
    "#                             RatecodeID TEXT,\n",
    "#                             store_and_fwd_flag TEXT,\n",
    "#                             PULocationID TEXT,\n",
    "#                             DOLocationID TEXT,\n",
    "#                             payment_type TEXT,\n",
    "#                             fare_amount TEXT,\n",
    "#                             extra TEXT,\n",
    "#                             mta_tax TEXT,\n",
    "#                             tip_amount TEXT,\n",
    "#                             tolls_amount TEXT,\n",
    "#                             improvement_surcharge TEXT,\n",
    "#                             total_amount TEXT,\n",
    "#                             congestion_surcharge TEXT,\n",
    "#                             airport_fee TEXT);''')\n",
    "    \n",
    "#     # Commit the table creation\n",
    "#     conn.commit()\n",
    "#     print(\"Table 'yellow_tripdata_2023_01' created successfully\")\n",
    "    \n",
    "#     # Load CSV file into a DataFrame skipping the header row\n",
    "#     df = pd.read_csv('yellow_tripdata_2023-01.csv', skiprows=1, low_memory=False) \n",
    "    \n",
    "#     # Prepare data as a list of tuples\n",
    "#     data = [tuple(row) for row in df.itertuples(index=False, name=None)]\n",
    "    \n",
    "#     # Construct the INSERT INTO statement\n",
    "#     insert_query = \"\"\"\n",
    "#         INSERT INTO yellow_tripdata_2023_01 (VendorID, tpep_pickup_datetime, tpep_dropoff_datetime, passenger_count, \n",
    "#         trip_distance, RatecodeID, store_and_fwd_flag, PULocationID, DOLocationID, payment_type, fare_amount, extra, \n",
    "#         mta_tax, tip_amount, tolls_amount, improvement_surcharge, total_amount, congestion_surcharge, airport_fee)\n",
    "#         VALUES %s\n",
    "#     \"\"\"\n",
    "    \n",
    "#     # Execute the INSERT INTO statement using execute_values()\n",
    "#     extras.execute_values(cursor, insert_query, data, page_size=100000) #page_size is number of rows to be inserted  \n",
    "    \n",
    "#     # Committing the transaction\n",
    "#     conn.commit()\n",
    "#     print(\"Data inserted successfully\")\n",
    "\n",
    "# except (Exception, psycopg2.Error) as error:\n",
    "#     print(\"Error while connecting to PostgreSQL or inserting data:\", error)\n",
    "\n",
    "# finally:\n",
    "#     # Closing the connection\n",
    "#     if conn:\n",
    "#         cursor.close()\n",
    "#         conn.close()\n",
    "#         print(\"PostgreSQL connection is closed\")\n"
   ]
  },
  {
   "cell_type": "code",
   "execution_count": 19,
   "id": "8113e5d1",
   "metadata": {},
   "outputs": [
    {
     "name": "stdout",
     "output_type": "stream",
     "text": [
      "Table 'yellow_tripdata_2023_01' created successfully\n",
      "Data inserted successfully in yellow_tripdata_2023_01 table\n",
      "Table 'taxi_zone_lookup' created successfully\n",
      "Data inserted successfully in taxi_zone_lookup table\n",
      "PostgreSQL connection is closed\n"
     ]
    }
   ],
   "source": [
    "import psycopg2\n",
    "import pandas as pd\n",
    "from psycopg2 import extras\n",
    "\n",
    "try:\n",
    "    # Establishing the connection\n",
    "    conn = psycopg2.connect(\n",
    "        database=\"postgres\", user='postgres', password='password', host='127.0.0.1', port='5432')\n",
    "    \n",
    "    # Creating a cursor object using the cursor() method\n",
    "    cursor = conn.cursor()\n",
    "    \n",
    "    # Create table yellow_tripdata_2023_01 if not exists\n",
    "    cursor.execute('''CREATE TABLE IF NOT EXISTS yellow_tripdata_2023_01 (\n",
    "                            id SERIAL PRIMARY KEY,\n",
    "                            VendorID TEXT, \n",
    "                            tpep_pickup_datetime TEXT,\n",
    "                            tpep_dropoff_datetime TEXT,\n",
    "                            passenger_count TEXT,\n",
    "                            trip_distance TEXT,\n",
    "                            RatecodeID TEXT,\n",
    "                            store_and_fwd_flag TEXT,\n",
    "                            PULocationID TEXT,\n",
    "                            DOLocationID TEXT,\n",
    "                            payment_type TEXT,\n",
    "                            fare_amount TEXT,\n",
    "                            extra TEXT,\n",
    "                            mta_tax TEXT,\n",
    "                            tip_amount TEXT,\n",
    "                            tolls_amount TEXT,\n",
    "                            improvement_surcharge TEXT,\n",
    "                            total_amount TEXT,\n",
    "                            congestion_surcharge TEXT,\n",
    "                            airport_fee TEXT);''')\n",
    "    \n",
    "    # Commit the table creation\n",
    "    conn.commit()\n",
    "    print(\"Table 'yellow_tripdata_2023_01' created successfully\")\n",
    "    \n",
    "    # Load CSV file into a DataFrame skipping the header row\n",
    "    df = pd.read_csv('yellow_tripdata_2023-01.csv', low_memory=False) \n",
    "    \n",
    "    # Prepare data as a list of tuples\n",
    "    data = [tuple(row) for row in df.itertuples(index=False, name=None)]\n",
    "    \n",
    "    # Construct the INSERT INTO statement\n",
    "    insert_query = \"\"\"\n",
    "        INSERT INTO yellow_tripdata_2023_01 (VendorID, tpep_pickup_datetime, tpep_dropoff_datetime, passenger_count, \n",
    "        trip_distance, RatecodeID, store_and_fwd_flag, PULocationID, DOLocationID, payment_type, fare_amount, extra, \n",
    "        mta_tax, tip_amount, tolls_amount, improvement_surcharge, total_amount, congestion_surcharge, airport_fee)\n",
    "        VALUES %s\n",
    "    \"\"\"\n",
    "    \n",
    "    # Execute the INSERT INTO statement using execute_values()\n",
    "    extras.execute_values(cursor, insert_query, data, page_size=100000) #page_size is number of rows to be inserted  \n",
    "    \n",
    "    # Committing the transaction\n",
    "    conn.commit()\n",
    "    print(\"Data inserted successfully in yellow_tripdata_2023_01 table\")\n",
    "    \n",
    "    \n",
    "    # Create table taxi_zone_lookup if not exists\n",
    "    cursor.execute('''create table taxi_zone_lookup(LocationID int PRIMARY KEY, \n",
    "                                                    Borough text,\n",
    "                                                    Zone text,\n",
    "                                                    service_zone text);''')\n",
    "    \n",
    "\n",
    "    # Commit the table creation\n",
    "    conn.commit()\n",
    "    \n",
    "    print(\"Table 'taxi_zone_lookup' created successfully\")\n",
    "\n",
    "    # Load CSV file into a DataFrame skipping the header row\n",
    "    zone_df = pd.read_csv('taxi+_zone_lookup.csv', low_memory=False) \n",
    "    \n",
    "    # Prepare data as a list of tuples\n",
    "    zone_data = [tuple(row) for row in zone_df.itertuples(index=False, name=None)]\n",
    "    \n",
    "    # Construct the INSERT INTO statement\n",
    "    zone_insert_query = \"\"\"\n",
    "        INSERT INTO taxi_zone_lookup (LocationID, Borough, Zone, service_zone)\n",
    "        VALUES %s\n",
    "    \"\"\"\n",
    "    \n",
    "    # Execute the INSERT INTO statement using execute_values()\n",
    "    extras.execute_values(cursor, zone_insert_query, zone_data, page_size=1000) #page_size is number of rows to be inserted  \n",
    "    \n",
    "    # Committing the transaction\n",
    "    conn.commit()\n",
    "    print(\"Data inserted successfully in taxi_zone_lookup table\")\n",
    "\n",
    "except (Exception, psycopg2.Error) as error:\n",
    "    print(\"Error while connecting to PostgreSQL or inserting data:\", error)\n",
    "\n",
    "finally:\n",
    "    # Closing the connection\n",
    "    if conn:\n",
    "        cursor.close()\n",
    "        conn.close()\n",
    "        print(\"PostgreSQL connection is closed\")\n"
   ]
  },
  {
   "cell_type": "code",
   "execution_count": null,
   "id": "aa4e6e21",
   "metadata": {},
   "outputs": [],
   "source": []
  },
  {
   "cell_type": "code",
   "execution_count": null,
   "id": "b7f278a3",
   "metadata": {},
   "outputs": [],
   "source": []
  }
 ],
 "metadata": {
  "kernelspec": {
   "display_name": "Python 3 (ipykernel)",
   "language": "python",
   "name": "python3"
  },
  "language_info": {
   "codemirror_mode": {
    "name": "ipython",
    "version": 3
   },
   "file_extension": ".py",
   "mimetype": "text/x-python",
   "name": "python",
   "nbconvert_exporter": "python",
   "pygments_lexer": "ipython3",
   "version": "3.10.12"
  }
 },
 "nbformat": 4,
 "nbformat_minor": 5
}
