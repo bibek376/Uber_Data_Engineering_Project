{
 "cells": [
  {
   "cell_type": "code",
   "execution_count": 3,
   "id": "67df7aca",
   "metadata": {},
   "outputs": [],
   "source": [
    "import pandas as pd\n",
    "import matplotlib.pyplot as plt\n",
    "import seaborn as sns\n",
    "import numpy as np\n",
    "import warnings\n",
    "warnings.filterwarnings('ignore')\n",
    "pd.pandas.set_option('display.max_columns',0)"
   ]
  },
  {
   "cell_type": "code",
   "execution_count": 4,
   "id": "03698f36",
   "metadata": {},
   "outputs": [],
   "source": [
    "df=pd.read_csv('yellow_tripdata_2023-01.csv',low_memory=False)"
   ]
  },
  {
   "cell_type": "code",
   "execution_count": 5,
   "id": "4439a549",
   "metadata": {},
   "outputs": [
    {
     "data": {
      "text/html": [
       "<div>\n",
       "<style scoped>\n",
       "    .dataframe tbody tr th:only-of-type {\n",
       "        vertical-align: middle;\n",
       "    }\n",
       "\n",
       "    .dataframe tbody tr th {\n",
       "        vertical-align: top;\n",
       "    }\n",
       "\n",
       "    .dataframe thead th {\n",
       "        text-align: right;\n",
       "    }\n",
       "</style>\n",
       "<table border=\"1\" class=\"dataframe\">\n",
       "  <thead>\n",
       "    <tr style=\"text-align: right;\">\n",
       "      <th></th>\n",
       "      <th>VendorID</th>\n",
       "      <th>tpep_pickup_datetime</th>\n",
       "      <th>tpep_dropoff_datetime</th>\n",
       "      <th>passenger_count</th>\n",
       "      <th>trip_distance</th>\n",
       "      <th>RatecodeID</th>\n",
       "      <th>store_and_fwd_flag</th>\n",
       "      <th>PULocationID</th>\n",
       "      <th>DOLocationID</th>\n",
       "      <th>payment_type</th>\n",
       "      <th>fare_amount</th>\n",
       "      <th>extra</th>\n",
       "      <th>mta_tax</th>\n",
       "      <th>tip_amount</th>\n",
       "      <th>tolls_amount</th>\n",
       "      <th>improvement_surcharge</th>\n",
       "      <th>total_amount</th>\n",
       "      <th>congestion_surcharge</th>\n",
       "      <th>airport_fee</th>\n",
       "    </tr>\n",
       "  </thead>\n",
       "  <tbody>\n",
       "    <tr>\n",
       "      <th>2578188</th>\n",
       "      <td>2</td>\n",
       "      <td>2023-01-27 17:41:12</td>\n",
       "      <td>2023-01-27 17:53:54</td>\n",
       "      <td>1.0</td>\n",
       "      <td>1.35</td>\n",
       "      <td>1.0</td>\n",
       "      <td>N</td>\n",
       "      <td>237</td>\n",
       "      <td>142</td>\n",
       "      <td>1</td>\n",
       "      <td>12.8</td>\n",
       "      <td>2.5</td>\n",
       "      <td>0.5</td>\n",
       "      <td>1.25</td>\n",
       "      <td>0.0</td>\n",
       "      <td>1.0</td>\n",
       "      <td>20.55</td>\n",
       "      <td>2.5</td>\n",
       "      <td>0.0</td>\n",
       "    </tr>\n",
       "    <tr>\n",
       "      <th>735851</th>\n",
       "      <td>2</td>\n",
       "      <td>2023-01-09 14:50:55</td>\n",
       "      <td>2023-01-09 15:05:13</td>\n",
       "      <td>2.0</td>\n",
       "      <td>2.02</td>\n",
       "      <td>1.0</td>\n",
       "      <td>N</td>\n",
       "      <td>232</td>\n",
       "      <td>249</td>\n",
       "      <td>1</td>\n",
       "      <td>14.9</td>\n",
       "      <td>0.0</td>\n",
       "      <td>0.5</td>\n",
       "      <td>2.0</td>\n",
       "      <td>0.0</td>\n",
       "      <td>1.0</td>\n",
       "      <td>20.9</td>\n",
       "      <td>2.5</td>\n",
       "      <td>0.0</td>\n",
       "    </tr>\n",
       "    <tr>\n",
       "      <th>1322747</th>\n",
       "      <td>2</td>\n",
       "      <td>2023-01-15 01:57:21</td>\n",
       "      <td>2023-01-15 02:21:30</td>\n",
       "      <td>2.0</td>\n",
       "      <td>6.92</td>\n",
       "      <td>1.0</td>\n",
       "      <td>N</td>\n",
       "      <td>114</td>\n",
       "      <td>24</td>\n",
       "      <td>1</td>\n",
       "      <td>33.1</td>\n",
       "      <td>1.0</td>\n",
       "      <td>0.5</td>\n",
       "      <td>7.62</td>\n",
       "      <td>0.0</td>\n",
       "      <td>1.0</td>\n",
       "      <td>45.72</td>\n",
       "      <td>2.5</td>\n",
       "      <td>0.0</td>\n",
       "    </tr>\n",
       "  </tbody>\n",
       "</table>\n",
       "</div>"
      ],
      "text/plain": [
       "        VendorID tpep_pickup_datetime  ... congestion_surcharge airport_fee\n",
       "2578188        2  2023-01-27 17:41:12  ...                  2.5         0.0\n",
       "735851         2  2023-01-09 14:50:55  ...                  2.5         0.0\n",
       "1322747        2  2023-01-15 01:57:21  ...                  2.5         0.0\n",
       "\n",
       "[3 rows x 19 columns]"
      ]
     },
     "execution_count": 5,
     "metadata": {},
     "output_type": "execute_result"
    }
   ],
   "source": [
    "df.sample(3)"
   ]
  },
  {
   "cell_type": "code",
   "execution_count": 6,
   "id": "ac6a5d5e",
   "metadata": {},
   "outputs": [
    {
     "data": {
      "text/plain": [
       "(3066812, 19)"
      ]
     },
     "execution_count": 6,
     "metadata": {},
     "output_type": "execute_result"
    }
   ],
   "source": [
    "#total number of rows and column (3066812, 19)\n",
    "df.shape"
   ]
  },
  {
   "cell_type": "code",
   "execution_count": 7,
   "id": "60442aae",
   "metadata": {},
   "outputs": [
    {
     "data": {
      "text/plain": [
       "VendorID                     0\n",
       "tpep_pickup_datetime         0\n",
       "tpep_dropoff_datetime        0\n",
       "passenger_count          71743\n",
       "trip_distance                0\n",
       "RatecodeID               71743\n",
       "store_and_fwd_flag       71743\n",
       "PULocationID                 0\n",
       "DOLocationID                 0\n",
       "payment_type                 0\n",
       "fare_amount                  0\n",
       "extra                        0\n",
       "mta_tax                      0\n",
       "tip_amount                   0\n",
       "tolls_amount                 0\n",
       "improvement_surcharge        0\n",
       "total_amount                 0\n",
       "congestion_surcharge     71743\n",
       "airport_fee              71743\n",
       "dtype: int64"
      ]
     },
     "execution_count": 7,
     "metadata": {},
     "output_type": "execute_result"
    }
   ],
   "source": [
    "#Check null value in all column\n",
    "df.isnull().sum()"
   ]
  },
  {
   "cell_type": "code",
   "execution_count": 9,
   "id": "83ba0a7a",
   "metadata": {},
   "outputs": [
    {
     "name": "stdout",
     "output_type": "stream",
     "text": [
      "71743\n"
     ]
    }
   ],
   "source": [
    "#Check distinct value in PULocationID and DOLocationID column\n",
    "print(df['passenger_count'].isnull().sum())"
   ]
  },
  {
   "cell_type": "markdown",
   "id": "cf229b90-b2d8-45c0-aa47-39cdaf09b69d",
   "metadata": {},
   "source": [
    "## passenger_count, RatecodeID, store_and_fwd_flag, congestion_surcharge and airport_fee column has 71743 records of null value."
   ]
  },
  {
   "cell_type": "code",
   "execution_count": 8,
   "id": "3ed2edf6-4713-42f4-8145-6ac81bf59a15",
   "metadata": {},
   "outputs": [
    {
     "data": {
      "image/png": "[encoded data removed]",
      "text/plain": [
       "<Figure size 1000x600 with 1 Axes>"
      ]
     },
     "metadata": {},
     "output_type": "display_data"
    }
   ],
   "source": [
    "#Plot null value count with column\n",
    "\n",
    "# Assuming df is your DataFrame\n",
    "missing_values = df.isnull().sum()\n",
    "\n",
    "# Creating a bar plot using Matplotlib\n",
    "plt.figure(figsize=(10, 6))\n",
    "plt.bar(missing_values.index, missing_values.values)\n",
    "plt.title('Missing Values in DataFrame')\n",
    "plt.xlabel('Columns')\n",
    "plt.ylabel('Number of Missing Values')\n",
    "plt.xticks(rotation=45)  # Rotating x-axis labels for better readability\n",
    "plt.tight_layout()  # Adjust layout to prevent clipping of labels\n",
    "plt.show()\n"
   ]
  },
  {
   "cell_type": "code",
   "execution_count": 9,
   "id": "b7e2c170",
   "metadata": {},
   "outputs": [
    {
     "name": "stdout",
     "output_type": "stream",
     "text": [
      "<class 'pandas.core.frame.DataFrame'>\n",
      "RangeIndex: 3066812 entries, 0 to 3066811\n",
      "Data columns (total 19 columns):\n",
      " #   Column                 Dtype \n",
      "---  ------                 ----- \n",
      " 0   VendorID               object\n",
      " 1   tpep_pickup_datetime   object\n",
      " 2   tpep_dropoff_datetime  object\n",
      " 3   passenger_count        object\n",
      " 4   trip_distance          object\n",
      " 5   RatecodeID             object\n",
      " 6   store_and_fwd_flag     object\n",
      " 7   PULocationID           object\n",
      " 8   DOLocationID           object\n",
      " 9   payment_type           object\n",
      " 10  fare_amount            object\n",
      " 11  extra                  object\n",
      " 12  mta_tax                object\n",
      " 13  tip_amount             object\n",
      " 14  tolls_amount           object\n",
      " 15  improvement_surcharge  object\n",
      " 16  total_amount           object\n",
      " 17  congestion_surcharge   object\n",
      " 18  airport_fee            object\n",
      "dtypes: object(19)\n",
      "memory usage: 444.6+ MB\n"
     ]
    }
   ],
   "source": [
    "#Check the data types of all present column in df dataframe\n",
    "df.info()"
   ]
  },
  {
   "cell_type": "code",
   "execution_count": 10,
   "id": "4e39ca99",
   "metadata": {},
   "outputs": [
    {
     "name": "stdout",
     "output_type": "stream",
     "text": [
      "Distinct value in VendorID column ['2' '1' 'VendorID']\n",
      "Count of distinct values in 'VendorID' column: 3\n"
     ]
    }
   ],
   "source": [
    "distinct_count = len(df['VendorID'].unique())\n",
    "print(\"Distinct value in VendorID column\",df['VendorID'].unique())\n",
    "print(\"Count of distinct values in 'VendorID' column:\", distinct_count)"
   ]
  },
  {
   "cell_type": "markdown",
   "id": "2c93d316-943d-4d50-8780-81355b711e1d",
   "metadata": {},
   "source": [
    "### For data better understanding let's load the both csv file in postgresql database but this is completely optional we can do all the data preparation part using pandas."
   ]
  },
  {
   "cell_type": "code",
   "execution_count": 15,
   "id": "38c1ef1e-62c0-4236-a04f-26994032ce3a",
   "metadata": {},
   "outputs": [
    {
     "name": "stdout",
     "output_type": "stream",
     "text": [
      "Table 'yellow_tripdata_2023_01' created successfully\n",
      "Data inserted successfully in yellow_tripdata_2023_01 table\n",
      "Table 'taxi_zones' created successfully\n",
      "Data inserted successfully in taxi_zones table\n",
      "PostgreSQL connection is closed\n"
     ]
    }
   ],
   "source": [
    "import psycopg2\n",
    "import pandas as pd\n",
    "from psycopg2 import extras\n",
    "\n",
    "try:\n",
    "    # Establishing the connection\n",
    "    conn = psycopg2.connect(\n",
    "        database=\"postgres\", user='postgres', password='password', host='127.0.0.1', port='5432')\n",
    "    \n",
    "    # Creating a cursor object using the cursor() method\n",
    "    cursor = conn.cursor()\n",
    "    \n",
    "    # Create table yellow_tripdata_2023_01 if not exists\n",
    "    cursor.execute('''CREATE TABLE IF NOT EXISTS yellow_tripdata_2023_01 (\n",
    "                            id SERIAL PRIMARY KEY,\n",
    "                            VendorID TEXT, \n",
    "                            tpep_pickup_datetime TEXT,\n",
    "                            tpep_dropoff_datetime TEXT,\n",
    "                            passenger_count TEXT,\n",
    "                            trip_distance TEXT,\n",
    "                            RatecodeID TEXT,\n",
    "                            store_and_fwd_flag TEXT,\n",
    "                            PULocationID TEXT,\n",
    "                            DOLocationID TEXT,\n",
    "                            payment_type TEXT,\n",
    "                            fare_amount TEXT,\n",
    "                            extra TEXT,\n",
    "                            mta_tax TEXT,\n",
    "                            tip_amount TEXT,\n",
    "                            tolls_amount TEXT,\n",
    "                            improvement_surcharge TEXT,\n",
    "                            total_amount TEXT,\n",
    "                            congestion_surcharge TEXT,\n",
    "                            airport_fee TEXT);''')\n",
    "    \n",
    "    # Commit the table creation\n",
    "    conn.commit()\n",
    "    print(\"Table 'yellow_tripdata_2023_01' created successfully\")\n",
    "    \n",
    "    # Load CSV file into a DataFrame skipping the header row\n",
    "    df = pd.read_csv('yellow_tripdata_2023-01.csv', low_memory=False) \n",
    "    \n",
    "    # Prepare data as a list of tuples\n",
    "    data = [tuple(row) for row in df.itertuples(index=False, name=None)]\n",
    "    \n",
    "    # Construct the INSERT INTO statement\n",
    "    insert_query = \"\"\"\n",
    "        INSERT INTO yellow_tripdata_2023_01 (VendorID, tpep_pickup_datetime, tpep_dropoff_datetime, passenger_count, \n",
    "        trip_distance, RatecodeID, store_and_fwd_flag, PULocationID, DOLocationID, payment_type, fare_amount, extra, \n",
    "        mta_tax, tip_amount, tolls_amount, improvement_surcharge, total_amount, congestion_surcharge, airport_fee)\n",
    "        VALUES %s\n",
    "    \"\"\"\n",
    "    \n",
    "    # Execute the INSERT INTO statement using execute_values()\n",
    "    extras.execute_values(cursor, insert_query, data, page_size=100000) #page_size is number of rows to be inserted  \n",
    "    \n",
    "    # Committing the transaction\n",
    "    conn.commit()\n",
    "    print(\"Data inserted successfully in yellow_tripdata_2023_01 table\")\n",
    "    \n",
    "    \n",
    "    # Create table taxi_zones if not exists\n",
    "    cursor.execute('''create table taxi_zones(OBJECTID int PRIMARY KEY,\n",
    "                                                    Shape_Leng float,\n",
    "                                                    the_geom text,\n",
    "                                                    Shape_Area float,\n",
    "                                                    Zone text,\n",
    "                                                    LocationID int,\n",
    "                                                    Borough text);''')\n",
    "    \n",
    "\n",
    "    # Commit the table creation\n",
    "    conn.commit()\n",
    "    \n",
    "    print(\"Table 'taxi_zones' created successfully\")\n",
    "\n",
    "    # Load CSV file into a DataFrame skipping the header row\n",
    "    zone_df = pd.read_csv('/home/bibek/Desktop/uber_data_engineering/data/taxi_zones.csv', low_memory=False) \n",
    "    \n",
    "    # Prepare data as a list of tuples\n",
    "    zone_data = [tuple(row) for row in zone_df.itertuples(index=False, name=None)]\n",
    "    \n",
    "    # Construct the INSERT INTO statement\n",
    "    zone_insert_query = \"\"\"\n",
    "        INSERT INTO taxi_zones (OBJECTID,Shape_Leng,the_geom,Shape_Area,Zone,LocationID,Borough)\n",
    "        VALUES %s\n",
    "    \"\"\"\n",
    "    \n",
    "    # Execute the INSERT INTO statement using execute_values()\n",
    "    extras.execute_values(cursor, zone_insert_query, zone_data, page_size=1000) #page_size is number of rows to be inserted  \n",
    "    \n",
    "    # Committing the transaction\n",
    "    conn.commit()\n",
    "    print(\"Data inserted successfully in taxi_zones table\")\n",
    "\n",
    "except (Exception, psycopg2.Error) as error:\n",
    "    print(\"Error while connecting to PostgreSQL or inserting data:\", error)\n",
    "\n",
    "finally:\n",
    "    # Closing the connection\n",
    "    if conn:\n",
    "        cursor.close()\n",
    "        conn.close()\n",
    "        print(\"PostgreSQL connection is closed\")"
   ]
  },
  {
   "cell_type": "code",
   "execution_count": 16,
   "id": "7f4dd138-6220-43d6-976c-3124889f291f",
   "metadata": {},
   "outputs": [
    {
     "data": {
      "text/html": [
       "<img src=\"https://raw.githubusercontent.com/bibek376/Uber_Data_Engineering_Project/master/pictures/1.png\"/>"
      ],
      "text/plain": [
       "<IPython.core.display.Image object>"
      ]
     },
     "execution_count": 16,
     "metadata": {},
     "output_type": "execute_result"
    }
   ],
   "source": [
    "from IPython.display import Image\n",
    "\n",
    "# Use the raw URL of the image\n",
    "image_url = \"https://raw.githubusercontent.com/bibek376/Uber_Data_Engineering_Project/master/pictures/1.png\"\n",
    "\n",
    "# Display the image\n",
    "Image(url=image_url)\n"
   ]
  },
  {
   "cell_type": "code",
   "execution_count": 17,
   "id": "34edcfcc-7960-4af8-ba64-adfe8ba42144",
   "metadata": {},
   "outputs": [],
   "source": [
    "#only garbage data\n",
    "filtered_df = df[df['VendorID'] == 'VendorID']"
   ]
  },
  {
   "cell_type": "code",
   "execution_count": 19,
   "id": "f1e58a73-e22c-4c8a-bfce-5c26bf5a1d9c",
   "metadata": {},
   "outputs": [
    {
     "data": {
      "text/html": [
       "<div>\n",
       "<style scoped>\n",
       "    .dataframe tbody tr th:only-of-type {\n",
       "        vertical-align: middle;\n",
       "    }\n",
       "\n",
       "    .dataframe tbody tr th {\n",
       "        vertical-align: top;\n",
       "    }\n",
       "\n",
       "    .dataframe thead th {\n",
       "        text-align: right;\n",
       "    }\n",
       "</style>\n",
       "<table border=\"1\" class=\"dataframe\">\n",
       "  <thead>\n",
       "    <tr style=\"text-align: right;\">\n",
       "      <th></th>\n",
       "      <th>VendorID</th>\n",
       "      <th>tpep_pickup_datetime</th>\n",
       "      <th>tpep_dropoff_datetime</th>\n",
       "      <th>passenger_count</th>\n",
       "      <th>trip_distance</th>\n",
       "      <th>RatecodeID</th>\n",
       "      <th>store_and_fwd_flag</th>\n",
       "      <th>PULocationID</th>\n",
       "      <th>DOLocationID</th>\n",
       "      <th>payment_type</th>\n",
       "      <th>fare_amount</th>\n",
       "      <th>extra</th>\n",
       "      <th>mta_tax</th>\n",
       "      <th>tip_amount</th>\n",
       "      <th>tolls_amount</th>\n",
       "      <th>improvement_surcharge</th>\n",
       "      <th>total_amount</th>\n",
       "      <th>congestion_surcharge</th>\n",
       "      <th>airport_fee</th>\n",
       "    </tr>\n",
       "  </thead>\n",
       "  <tbody>\n",
       "    <tr>\n",
       "      <th>666689</th>\n",
       "      <td>VendorID</td>\n",
       "      <td>tpep_pickup_datetime</td>\n",
       "      <td>tpep_dropoff_datetime</td>\n",
       "      <td>passenger_count</td>\n",
       "      <td>trip_distance</td>\n",
       "      <td>RatecodeID</td>\n",
       "      <td>store_and_fwd_flag</td>\n",
       "      <td>PULocationID</td>\n",
       "      <td>DOLocationID</td>\n",
       "      <td>payment_type</td>\n",
       "      <td>fare_amount</td>\n",
       "      <td>extra</td>\n",
       "      <td>mta_tax</td>\n",
       "      <td>tip_amount</td>\n",
       "      <td>tolls_amount</td>\n",
       "      <td>improvement_surcharge</td>\n",
       "      <td>total_amount</td>\n",
       "      <td>congestion_surcharge</td>\n",
       "      <td>airport_fee</td>\n",
       "    </tr>\n",
       "    <tr>\n",
       "      <th>3000104</th>\n",
       "      <td>VendorID</td>\n",
       "      <td>tpep_pickup_datetime</td>\n",
       "      <td>tpep_dropoff_datetime</td>\n",
       "      <td>passenger_count</td>\n",
       "      <td>trip_distance</td>\n",
       "      <td>RatecodeID</td>\n",
       "      <td>store_and_fwd_flag</td>\n",
       "      <td>PULocationID</td>\n",
       "      <td>DOLocationID</td>\n",
       "      <td>payment_type</td>\n",
       "      <td>fare_amount</td>\n",
       "      <td>extra</td>\n",
       "      <td>mta_tax</td>\n",
       "      <td>tip_amount</td>\n",
       "      <td>tolls_amount</td>\n",
       "      <td>improvement_surcharge</td>\n",
       "      <td>total_amount</td>\n",
       "      <td>congestion_surcharge</td>\n",
       "      <td>airport_fee</td>\n",
       "    </tr>\n",
       "    <tr>\n",
       "      <th>2133407</th>\n",
       "      <td>VendorID</td>\n",
       "      <td>tpep_pickup_datetime</td>\n",
       "      <td>tpep_dropoff_datetime</td>\n",
       "      <td>passenger_count</td>\n",
       "      <td>trip_distance</td>\n",
       "      <td>RatecodeID</td>\n",
       "      <td>store_and_fwd_flag</td>\n",
       "      <td>PULocationID</td>\n",
       "      <td>DOLocationID</td>\n",
       "      <td>payment_type</td>\n",
       "      <td>fare_amount</td>\n",
       "      <td>extra</td>\n",
       "      <td>mta_tax</td>\n",
       "      <td>tip_amount</td>\n",
       "      <td>tolls_amount</td>\n",
       "      <td>improvement_surcharge</td>\n",
       "      <td>total_amount</td>\n",
       "      <td>congestion_surcharge</td>\n",
       "      <td>airport_fee</td>\n",
       "    </tr>\n",
       "    <tr>\n",
       "      <th>1333379</th>\n",
       "      <td>VendorID</td>\n",
       "      <td>tpep_pickup_datetime</td>\n",
       "      <td>tpep_dropoff_datetime</td>\n",
       "      <td>passenger_count</td>\n",
       "      <td>trip_distance</td>\n",
       "      <td>RatecodeID</td>\n",
       "      <td>store_and_fwd_flag</td>\n",
       "      <td>PULocationID</td>\n",
       "      <td>DOLocationID</td>\n",
       "      <td>payment_type</td>\n",
       "      <td>fare_amount</td>\n",
       "      <td>extra</td>\n",
       "      <td>mta_tax</td>\n",
       "      <td>tip_amount</td>\n",
       "      <td>tolls_amount</td>\n",
       "      <td>improvement_surcharge</td>\n",
       "      <td>total_amount</td>\n",
       "      <td>congestion_surcharge</td>\n",
       "      <td>airport_fee</td>\n",
       "    </tr>\n",
       "    <tr>\n",
       "      <th>1933400</th>\n",
       "      <td>VendorID</td>\n",
       "      <td>tpep_pickup_datetime</td>\n",
       "      <td>tpep_dropoff_datetime</td>\n",
       "      <td>passenger_count</td>\n",
       "      <td>trip_distance</td>\n",
       "      <td>RatecodeID</td>\n",
       "      <td>store_and_fwd_flag</td>\n",
       "      <td>PULocationID</td>\n",
       "      <td>DOLocationID</td>\n",
       "      <td>payment_type</td>\n",
       "      <td>fare_amount</td>\n",
       "      <td>extra</td>\n",
       "      <td>mta_tax</td>\n",
       "      <td>tip_amount</td>\n",
       "      <td>tolls_amount</td>\n",
       "      <td>improvement_surcharge</td>\n",
       "      <td>total_amount</td>\n",
       "      <td>congestion_surcharge</td>\n",
       "      <td>airport_fee</td>\n",
       "    </tr>\n",
       "  </tbody>\n",
       "</table>\n",
       "</div>"
      ],
      "text/plain": [
       "         VendorID  tpep_pickup_datetime  ...  congestion_surcharge  airport_fee\n",
       "666689   VendorID  tpep_pickup_datetime  ...  congestion_surcharge  airport_fee\n",
       "3000104  VendorID  tpep_pickup_datetime  ...  congestion_surcharge  airport_fee\n",
       "2133407  VendorID  tpep_pickup_datetime  ...  congestion_surcharge  airport_fee\n",
       "1333379  VendorID  tpep_pickup_datetime  ...  congestion_surcharge  airport_fee\n",
       "1933400  VendorID  tpep_pickup_datetime  ...  congestion_surcharge  airport_fee\n",
       "\n",
       "[5 rows x 19 columns]"
      ]
     },
     "execution_count": 19,
     "metadata": {},
     "output_type": "execute_result"
    }
   ],
   "source": [
    "#verify them by selecting random value\n",
    "filtered_df.sample(5)"
   ]
  },
  {
   "cell_type": "code",
   "execution_count": 20,
   "id": "3e13fd9f-0897-4345-8100-0f75f688c7c8",
   "metadata": {},
   "outputs": [
    {
     "data": {
      "text/plain": [
       "(46, 19)"
      ]
     },
     "execution_count": 20,
     "metadata": {},
     "output_type": "execute_result"
    }
   ],
   "source": [
    "#calculate total number of garabge rows in csv file\n",
    "filtered_df.shape"
   ]
  },
  {
   "cell_type": "code",
   "execution_count": 21,
   "id": "e7b9a9d7-f20e-4c60-8244-b0815627c654",
   "metadata": {},
   "outputs": [],
   "source": [
    "#Select only the proper data\n",
    "after_filtered_df=df[df['VendorID'] != 'VendorID']"
   ]
  },
  {
   "cell_type": "markdown",
   "id": "19129ae8-dd20-4956-96c7-8af419115e6b",
   "metadata": {},
   "source": [
    "#### According to data dictionary VendorID, RatecodeID, store_and_fwd_flag and payment_type are the categorical data"
   ]
  },
  {
   "cell_type": "code",
   "execution_count": 22,
   "id": "0430c382-fd0f-4fd6-ad70-b44c4a8c1d39",
   "metadata": {},
   "outputs": [],
   "source": [
    "after_filtered_df['VendorID']=after_filtered_df['VendorID'].astype('category')\n",
    "after_filtered_df['tpep_pickup_datetime']=pd.to_datetime(after_filtered_df['tpep_pickup_datetime'])\n",
    "after_filtered_df['tpep_dropoff_datetime']=pd.to_datetime(after_filtered_df['tpep_dropoff_datetime'])\n",
    "after_filtered_df['passenger_count']=pd.to_numeric(after_filtered_df['passenger_count'],downcast='integer')\n",
    "after_filtered_df['trip_distance']=pd.to_numeric(after_filtered_df['trip_distance'])\n",
    "after_filtered_df['RatecodeID']=after_filtered_df['RatecodeID'].astype('category')\n",
    "after_filtered_df['store_and_fwd_flag']=after_filtered_df['store_and_fwd_flag'].astype('category')\n",
    "after_filtered_df['PULocationID']=pd.to_numeric(after_filtered_df['PULocationID'])\n",
    "after_filtered_df['DOLocationID']=pd.to_numeric(after_filtered_df['DOLocationID'])\n",
    "after_filtered_df['payment_type']=after_filtered_df['payment_type'].astype('category')\n",
    "after_filtered_df['fare_amount']=pd.to_numeric(after_filtered_df['fare_amount'])\n",
    "after_filtered_df['extra']=pd.to_numeric(after_filtered_df['extra'])\n",
    "after_filtered_df['mta_tax']=pd.to_numeric(after_filtered_df['mta_tax'])\n",
    "after_filtered_df['tip_amount']=pd.to_numeric(after_filtered_df['tip_amount'])\n",
    "after_filtered_df['tolls_amount']=pd.to_numeric(after_filtered_df['tolls_amount'])\n",
    "after_filtered_df['improvement_surcharge']=pd.to_numeric(after_filtered_df['improvement_surcharge'])\n",
    "after_filtered_df['total_amount']=pd.to_numeric(after_filtered_df['total_amount'])\n",
    "after_filtered_df['congestion_surcharge']=pd.to_numeric(after_filtered_df['congestion_surcharge'])\n",
    "after_filtered_df['airport_fee']=pd.to_numeric(after_filtered_df['airport_fee'])"
   ]
  },
  {
   "cell_type": "code",
   "execution_count": 23,
   "id": "518801aa-e7b4-4770-a15e-1222f1308f8a",
   "metadata": {},
   "outputs": [
    {
     "name": "stdout",
     "output_type": "stream",
     "text": [
      "<class 'pandas.core.frame.DataFrame'>\n",
      "Index: 3066766 entries, 0 to 3066811\n",
      "Data columns (total 19 columns):\n",
      " #   Column                 Dtype         \n",
      "---  ------                 -----         \n",
      " 0   VendorID               category      \n",
      " 1   tpep_pickup_datetime   datetime64[ns]\n",
      " 2   tpep_dropoff_datetime  datetime64[ns]\n",
      " 3   passenger_count        float64       \n",
      " 4   trip_distance          float64       \n",
      " 5   RatecodeID             category      \n",
      " 6   store_and_fwd_flag     category      \n",
      " 7   PULocationID           int64         \n",
      " 8   DOLocationID           int64         \n",
      " 9   payment_type           category      \n",
      " 10  fare_amount            float64       \n",
      " 11  extra                  float64       \n",
      " 12  mta_tax                float64       \n",
      " 13  tip_amount             float64       \n",
      " 14  tolls_amount           float64       \n",
      " 15  improvement_surcharge  float64       \n",
      " 16  total_amount           float64       \n",
      " 17  congestion_surcharge   float64       \n",
      " 18  airport_fee            float64       \n",
      "dtypes: category(4), datetime64[ns](2), float64(11), int64(2)\n",
      "memory usage: 386.1 MB\n"
     ]
    }
   ],
   "source": [
    "#Check data type conversion\n",
    "after_filtered_df.info()"
   ]
  },
  {
   "cell_type": "markdown",
   "id": "961f9a94",
   "metadata": {},
   "source": [
    "### check if there is same value in tpep_pickup_datetime and tpep_dropoff_datetime: if there is same value logically data is not useful"
   ]
  },
  {
   "cell_type": "code",
   "execution_count": null,
   "id": "7e154c20-7f93-4c6f-8f9d-27462838ed34",
   "metadata": {},
   "outputs": [],
   "source": []
  },
  {
   "cell_type": "code",
   "execution_count": null,
   "id": "409401e5-515e-4c5c-8fb5-723e0b62346a",
   "metadata": {},
   "outputs": [],
   "source": []
  },
  {
   "cell_type": "code",
   "execution_count": 27,
   "id": "97b9e7fc",
   "metadata": {},
   "outputs": [],
   "source": [
    "df = df[df['tpep_dropoff_datetime'] != 'tpep_dropoff_datetime']"
   ]
  },
  {
   "cell_type": "code",
   "execution_count": 28,
   "id": "0779c246",
   "metadata": {},
   "outputs": [],
   "source": [
    "df['VendorID']=pd.to_numeric(df['VendorID'],downcast='integer')\n",
    "df['tpep_pickup_datetime']=pd.to_datetime(df['tpep_pickup_datetime'])\n",
    "df['tpep_dropoff_datetime']=pd.to_datetime(df['tpep_dropoff_datetime'])\n",
    "df['passenger_count']=pd.to_numeric(df['passenger_count'],downcast='integer')"
   ]
  },
  {
   "cell_type": "code",
   "execution_count": null,
   "id": "b6817eee",
   "metadata": {},
   "outputs": [],
   "source": [
    "df['trip_distance']=pd.to_datetime(df['trip_distance'])\n",
    "df['RatecodeID']=pd.to_datetime(df['RatecodeID'])\n",
    "df['store_and_fwd_flag']=pd.to_datetime(df['store_and_fwd_flag'])\n",
    "df['PULocationID']=pd.to_datetime(df['PULocationID'])\n",
    "df['DOLocationID']=pd.to_datetime(df['DOLocationID'])\n",
    "df['payment_type']=pd.to_datetime(df['payment_type'])\n",
    "df['fare_amount']=pd.to_datetime(df['fare_amount'])\n",
    "df['extra']=pd.to_datetime(df['extra'])\n",
    "df['mta_tax']=pd.to_datetime(df['mta_tax'])\n",
    "df['tip_amount']=pd.to_datetime(df['tip_amount'])\n",
    "df['tolls_amount']=pd.to_datetime(df['tolls_amount'])\n",
    "df['improvement_surcharge']=pd.to_datetime(df['improvement_surcharge'])\n",
    "df['total_amount']=pd.to_datetime(df['total_amount'])\n",
    "df['congestion_surcharge']=pd.to_datetime(df['congestion_surcharge'])\n",
    "df['airport_fee']=pd.to_datetime(df['airport_fee'])"
   ]
  },
  {
   "cell_type": "code",
   "execution_count": 17,
   "id": "2748e860",
   "metadata": {},
   "outputs": [
    {
     "name": "stdout",
     "output_type": "stream",
     "text": [
      "<class 'pandas.core.frame.DataFrame'>\n",
      "Index: 3066766 entries, 0 to 3066811\n",
      "Data columns (total 19 columns):\n",
      " #   Column                 Dtype         \n",
      "---  ------                 -----         \n",
      " 0   VendorID               int8          \n",
      " 1   tpep_pickup_datetime   datetime64[ns]\n",
      " 2   tpep_dropoff_datetime  datetime64[ns]\n",
      " 3   passenger_count        float64       \n",
      " 4   trip_distance          object        \n",
      " 5   RatecodeID             object        \n",
      " 6   store_and_fwd_flag     object        \n",
      " 7   PULocationID           object        \n",
      " 8   DOLocationID           object        \n",
      " 9   payment_type           object        \n",
      " 10  fare_amount            object        \n",
      " 11  extra                  object        \n",
      " 12  mta_tax                object        \n",
      " 13  tip_amount             object        \n",
      " 14  tolls_amount           object        \n",
      " 15  improvement_surcharge  object        \n",
      " 16  total_amount           object        \n",
      " 17  congestion_surcharge   object        \n",
      " 18  airport_fee            object        \n",
      "dtypes: datetime64[ns](2), float64(1), int8(1), object(15)\n",
      "memory usage: 447.5+ MB\n"
     ]
    }
   ],
   "source": [
    "df.info()"
   ]
  },
  {
   "cell_type": "code",
   "execution_count": null,
   "id": "bf7ad426",
   "metadata": {},
   "outputs": [],
   "source": []
  },
  {
   "cell_type": "code",
   "execution_count": null,
   "id": "3ac910da",
   "metadata": {},
   "outputs": [],
   "source": []
  },
  {
   "cell_type": "code",
   "execution_count": null,
   "id": "7e43a2ee",
   "metadata": {},
   "outputs": [],
   "source": []
  },
  {
   "cell_type": "markdown",
   "id": "aab87a2b",
   "metadata": {},
   "source": [
    "Load both file in postgreSQL datbase for data cleaning "
   ]
  },
  {
   "cell_type": "code",
   "execution_count": 12,
   "id": "ace5c646",
   "metadata": {},
   "outputs": [
    {
     "name": "stderr",
     "output_type": "stream",
     "text": [
      "/tmp/ipykernel_17998/4041931336.py:1: DtypeWarning: Columns (0,3,4,5,6,7,8,9,10,11,12,13,14,15,16,17,18) have mixed types. Specify dtype option on import or set low_memory=False.\n",
      "  df_test = pd.read_csv('yellow_tripdata_2023-01.csv', skiprows=1)\n"
     ]
    }
   ],
   "source": [
    "df_test = pd.read_csv('yellow_tripdata_2023-01.csv', skiprows=1)"
   ]
  },
  {
   "cell_type": "code",
   "execution_count": 13,
   "id": "9a1a287c",
   "metadata": {},
   "outputs": [
    {
     "data": {
      "text/html": [
       "<div>\n",
       "<style scoped>\n",
       "    .dataframe tbody tr th:only-of-type {\n",
       "        vertical-align: middle;\n",
       "    }\n",
       "\n",
       "    .dataframe tbody tr th {\n",
       "        vertical-align: top;\n",
       "    }\n",
       "\n",
       "    .dataframe thead th {\n",
       "        text-align: right;\n",
       "    }\n",
       "</style>\n",
       "<table border=\"1\" class=\"dataframe\">\n",
       "  <thead>\n",
       "    <tr style=\"text-align: right;\">\n",
       "      <th></th>\n",
       "      <th>2</th>\n",
       "      <th>2023-01-01 00:32:10</th>\n",
       "      <th>2023-01-01 00:40:36</th>\n",
       "      <th>1.0</th>\n",
       "      <th>0.97</th>\n",
       "      <th>1.0.1</th>\n",
       "      <th>N</th>\n",
       "      <th>161</th>\n",
       "      <th>141</th>\n",
       "      <th>2.1</th>\n",
       "      <th>9.3</th>\n",
       "      <th>1.0.2</th>\n",
       "      <th>0.5</th>\n",
       "      <th>0.0</th>\n",
       "      <th>0.0.1</th>\n",
       "      <th>1.0.3</th>\n",
       "      <th>14.3</th>\n",
       "      <th>2.5</th>\n",
       "      <th>0.0.2</th>\n",
       "    </tr>\n",
       "  </thead>\n",
       "  <tbody>\n",
       "    <tr>\n",
       "      <th>63888</th>\n",
       "      <td>2</td>\n",
       "      <td>2023-01-01 20:37:14</td>\n",
       "      <td>2023-01-01 20:45:27</td>\n",
       "      <td>1.0</td>\n",
       "      <td>2.21</td>\n",
       "      <td>1.0</td>\n",
       "      <td>N</td>\n",
       "      <td>142</td>\n",
       "      <td>151</td>\n",
       "      <td>1</td>\n",
       "      <td>12.1</td>\n",
       "      <td>1.0</td>\n",
       "      <td>0.5</td>\n",
       "      <td>3.42</td>\n",
       "      <td>0.0</td>\n",
       "      <td>1.0</td>\n",
       "      <td>20.52</td>\n",
       "      <td>2.5</td>\n",
       "      <td>0.0</td>\n",
       "    </tr>\n",
       "    <tr>\n",
       "      <th>2105760</th>\n",
       "      <td>2</td>\n",
       "      <td>2023-01-23 05:33:06</td>\n",
       "      <td>2023-01-23 05:38:51</td>\n",
       "      <td>2.0</td>\n",
       "      <td>1.24</td>\n",
       "      <td>1.0</td>\n",
       "      <td>N</td>\n",
       "      <td>186</td>\n",
       "      <td>233</td>\n",
       "      <td>1</td>\n",
       "      <td>8.6</td>\n",
       "      <td>1.0</td>\n",
       "      <td>0.5</td>\n",
       "      <td>2.72</td>\n",
       "      <td>0.0</td>\n",
       "      <td>1.0</td>\n",
       "      <td>16.32</td>\n",
       "      <td>2.5</td>\n",
       "      <td>0.0</td>\n",
       "    </tr>\n",
       "    <tr>\n",
       "      <th>2337212</th>\n",
       "      <td>2</td>\n",
       "      <td>2023-01-25 14:57:51</td>\n",
       "      <td>2023-01-25 15:08:43</td>\n",
       "      <td>1.0</td>\n",
       "      <td>2.87</td>\n",
       "      <td>1.0</td>\n",
       "      <td>Y</td>\n",
       "      <td>233</td>\n",
       "      <td>232</td>\n",
       "      <td>1</td>\n",
       "      <td>15.6</td>\n",
       "      <td>0.0</td>\n",
       "      <td>0.5</td>\n",
       "      <td>5.88</td>\n",
       "      <td>0.0</td>\n",
       "      <td>1.0</td>\n",
       "      <td>25.48</td>\n",
       "      <td>2.5</td>\n",
       "      <td>0.0</td>\n",
       "    </tr>\n",
       "    <tr>\n",
       "      <th>2468569</th>\n",
       "      <td>2</td>\n",
       "      <td>2023-01-26 17:05:10</td>\n",
       "      <td>2023-01-26 17:57:30</td>\n",
       "      <td>1.0</td>\n",
       "      <td>11.48</td>\n",
       "      <td>1.0</td>\n",
       "      <td>N</td>\n",
       "      <td>142</td>\n",
       "      <td>181</td>\n",
       "      <td>1</td>\n",
       "      <td>57.6</td>\n",
       "      <td>2.5</td>\n",
       "      <td>0.5</td>\n",
       "      <td>10.0</td>\n",
       "      <td>6.55</td>\n",
       "      <td>1.0</td>\n",
       "      <td>80.65</td>\n",
       "      <td>2.5</td>\n",
       "      <td>0.0</td>\n",
       "    </tr>\n",
       "  </tbody>\n",
       "</table>\n",
       "</div>"
      ],
      "text/plain": [
       "         2  2023-01-01 00:32:10  2023-01-01 00:40:36  1.0   0.97 1.0.1  N  \\\n",
       "63888    2  2023-01-01 20:37:14  2023-01-01 20:45:27  1.0   2.21   1.0  N   \n",
       "2105760  2  2023-01-23 05:33:06  2023-01-23 05:38:51  2.0   1.24   1.0  N   \n",
       "2337212  2  2023-01-25 14:57:51  2023-01-25 15:08:43  1.0   2.87   1.0  Y   \n",
       "2468569  2  2023-01-26 17:05:10  2023-01-26 17:57:30  1.0  11.48   1.0  N   \n",
       "\n",
       "         161  141 2.1   9.3 1.0.2  0.5   0.0 0.0.1 1.0.3   14.3  2.5 0.0.2  \n",
       "63888    142  151   1  12.1   1.0  0.5  3.42   0.0   1.0  20.52  2.5   0.0  \n",
       "2105760  186  233   1   8.6   1.0  0.5  2.72   0.0   1.0  16.32  2.5   0.0  \n",
       "2337212  233  232   1  15.6   0.0  0.5  5.88   0.0   1.0  25.48  2.5   0.0  \n",
       "2468569  142  181   1  57.6   2.5  0.5  10.0  6.55   1.0  80.65  2.5   0.0  "
      ]
     },
     "execution_count": 13,
     "metadata": {},
     "output_type": "execute_result"
    }
   ],
   "source": [
    "df_test.sample(4)"
   ]
  },
  {
   "cell_type": "code",
   "execution_count": 14,
   "id": "e3474982",
   "metadata": {},
   "outputs": [
    {
     "name": "stdout",
     "output_type": "stream",
     "text": [
      "Index: 0\n",
      "Row data:\n",
      "VendorID                                   2\n",
      "tpep_pickup_datetime     2023-01-01 00:32:10\n",
      "tpep_dropoff_datetime    2023-01-01 00:40:36\n",
      "passenger_count                          1.0\n",
      "trip_distance                           0.97\n",
      "RatecodeID                               1.0\n",
      "store_and_fwd_flag                         N\n",
      "PULocationID                             161\n",
      "DOLocationID                             141\n",
      "payment_type                               2\n",
      "fare_amount                              9.3\n",
      "extra                                    1.0\n",
      "mta_tax                                  0.5\n",
      "tip_amount                               0.0\n",
      "tolls_amount                             0.0\n",
      "improvement_surcharge                    1.0\n",
      "total_amount                            14.3\n",
      "congestion_surcharge                     2.5\n",
      "airport_fee                              0.0\n",
      "Name: 0, dtype: object\n",
      "\n"
     ]
    }
   ],
   "source": [
    "for index, row in df.iterrows():\n",
    "    print(f\"Index: {index}\")\n",
    "    print(f\"Row data:\\n{row}\\n\")\n",
    "    break;"
   ]
  },
  {
   "cell_type": "code",
   "execution_count": 72,
   "id": "32016883",
   "metadata": {},
   "outputs": [],
   "source": [
    "# #Insert all the csv data into tables\n",
    "# import psycopg2\n",
    "# import pandas as pd\n",
    "# from psycopg2 import extras\n",
    "\n",
    "# try:\n",
    "#     # Establishing the connection\n",
    "#     conn = psycopg2.connect(\n",
    "#         database=\"postgres\", user='postgres', password='password', host='127.0.0.1', port='5432')\n",
    "    \n",
    "#     # Creating a cursor object using the cursor() method\n",
    "#     cursor = conn.cursor()\n",
    "    \n",
    "#     # Load CSV file into a DataFrame skipping the header row\n",
    "#     df = pd.read_csv('yellow_tripdata_2023-01.csv', skiprows=1,low_memory=False)  # Adjust the file path as necessary\n",
    "    \n",
    "#     # Insert DataFrame records into PostgreSQL table\n",
    "#     for index, row in df.iterrows():\n",
    "#         cursor.execute(\"\"\"\n",
    "#             INSERT INTO yellow_tripdata_2023_01 (VendorID, tpep_pickup_datetime, tpep_dropoff_datetime, passenger_count, \n",
    "#             trip_distance, RatecodeID, store_and_fwd_flag, PULocationID, DOLocationID, payment_type, fare_amount, extra, \n",
    "#             mta_tax, tip_amount, tolls_amount, improvement_surcharge, total_amount, congestion_surcharge, airport_fee)\n",
    "#             VALUES (%s, %s, %s, %s, %s, %s, %s, %s, %s, %s, %s, %s, %s, %s, %s, %s, %s, %s, %s)\n",
    "#         \"\"\", tuple(row))\n",
    "\n",
    "#         # Committing the transaction\n",
    "#         conn.commit()\n",
    "#     print(\"Data inserted successfully\")\n",
    "\n",
    "# except(Exception, psycopg2.Error) as error:\n",
    "#     print(\"Error while connecting to PostgreSQL\", error)\n",
    "\n",
    "# finally:\n",
    "#     # Closing the connection\n",
    "#     if conn:\n",
    "#         cursor.close()\n",
    "#         conn.close()\n",
    "#         print(\"PostgreSQL connection is closed\")\n"
   ]
  },
  {
   "cell_type": "markdown",
   "id": "ba73fe4c",
   "metadata": {},
   "source": [
    "Table creation and Data insertation at a time."
   ]
  },
  {
   "cell_type": "code",
   "execution_count": 15,
   "id": "e83e4443",
   "metadata": {},
   "outputs": [
    {
     "name": "stdout",
     "output_type": "stream",
     "text": [
      "Table 'yellow_tripdata_2023_01' created successfully\n",
      "Data inserted successfully\n",
      "PostgreSQL connection is closed\n"
     ]
    }
   ],
   "source": [
    "# import psycopg2\n",
    "# import pandas as pd\n",
    "# from psycopg2 import extras\n",
    "\n",
    "# try:\n",
    "#     # Establishing the connection\n",
    "#     conn = psycopg2.connect(\n",
    "#         database=\"postgres\", user='postgres', password='password', host='127.0.0.1', port='5432')\n",
    "    \n",
    "#     # Creating a cursor object using the cursor() method\n",
    "#     cursor = conn.cursor()\n",
    "    \n",
    "#     # Create table if not exists\n",
    "#     cursor.execute('''CREATE TABLE IF NOT EXISTS yellow_tripdata_2023_01 (\n",
    "#                             id SERIAL PRIMARY KEY,\n",
    "#                             VendorID TEXT, \n",
    "#                             tpep_pickup_datetime TEXT,\n",
    "#                             tpep_dropoff_datetime TEXT,\n",
    "#                             passenger_count TEXT,\n",
    "#                             trip_distance TEXT,\n",
    "#                             RatecodeID TEXT,\n",
    "#                             store_and_fwd_flag TEXT,\n",
    "#                             PULocationID TEXT,\n",
    "#                             DOLocationID TEXT,\n",
    "#                             payment_type TEXT,\n",
    "#                             fare_amount TEXT,\n",
    "#                             extra TEXT,\n",
    "#                             mta_tax TEXT,\n",
    "#                             tip_amount TEXT,\n",
    "#                             tolls_amount TEXT,\n",
    "#                             improvement_surcharge TEXT,\n",
    "#                             total_amount TEXT,\n",
    "#                             congestion_surcharge TEXT,\n",
    "#                             airport_fee TEXT);''')\n",
    "    \n",
    "#     # Commit the table creation\n",
    "#     conn.commit()\n",
    "#     print(\"Table 'yellow_tripdata_2023_01' created successfully\")\n",
    "    \n",
    "#     # Load CSV file into a DataFrame skipping the header row\n",
    "#     df = pd.read_csv('yellow_tripdata_2023-01.csv', skiprows=1, low_memory=False) \n",
    "    \n",
    "#     # Prepare data as a list of tuples\n",
    "#     data = [tuple(row) for row in df.itertuples(index=False, name=None)]\n",
    "    \n",
    "#     # Construct the INSERT INTO statement\n",
    "#     insert_query = \"\"\"\n",
    "#         INSERT INTO yellow_tripdata_2023_01 (VendorID, tpep_pickup_datetime, tpep_dropoff_datetime, passenger_count, \n",
    "#         trip_distance, RatecodeID, store_and_fwd_flag, PULocationID, DOLocationID, payment_type, fare_amount, extra, \n",
    "#         mta_tax, tip_amount, tolls_amount, improvement_surcharge, total_amount, congestion_surcharge, airport_fee)\n",
    "#         VALUES %s\n",
    "#     \"\"\"\n",
    "    \n",
    "#     # Execute the INSERT INTO statement using execute_values()\n",
    "#     extras.execute_values(cursor, insert_query, data, page_size=100000) #page_size is number of rows to be inserted  \n",
    "    \n",
    "#     # Committing the transaction\n",
    "#     conn.commit()\n",
    "#     print(\"Data inserted successfully\")\n",
    "\n",
    "# except (Exception, psycopg2.Error) as error:\n",
    "#     print(\"Error while connecting to PostgreSQL or inserting data:\", error)\n",
    "\n",
    "# finally:\n",
    "#     # Closing the connection\n",
    "#     if conn:\n",
    "#         cursor.close()\n",
    "#         conn.close()\n",
    "#         print(\"PostgreSQL connection is closed\")\n"
   ]
  },
  {
   "cell_type": "code",
   "execution_count": 25,
   "id": "d46d9db6-3ea2-40bb-a10c-b94be2667761",
   "metadata": {},
   "outputs": [
    {
     "name": "stdout",
     "output_type": "stream",
     "text": [
      "<class 'pandas.core.frame.DataFrame'>\n",
      "RangeIndex: 263 entries, 0 to 262\n",
      "Data columns (total 7 columns):\n",
      " #   Column      Non-Null Count  Dtype  \n",
      "---  ------      --------------  -----  \n",
      " 0   OBJECTID    263 non-null    int64  \n",
      " 1   Shape_Leng  263 non-null    float64\n",
      " 2   the_geom    263 non-null    object \n",
      " 3   Shape_Area  263 non-null    float64\n",
      " 4   zone        263 non-null    object \n",
      " 5   LocationID  263 non-null    int64  \n",
      " 6   borough     263 non-null    object \n",
      "dtypes: float64(2), int64(2), object(3)\n",
      "memory usage: 14.5+ KB\n"
     ]
    }
   ],
   "source": [
    "taxi_zone_df.info()"
   ]
  },
  {
   "cell_type": "code",
   "execution_count": null,
   "id": "aa4e6e21",
   "metadata": {},
   "outputs": [],
   "source": []
  },
  {
   "cell_type": "code",
   "execution_count": null,
   "id": "b7f278a3",
   "metadata": {},
   "outputs": [],
   "source": []
  },
  {
   "cell_type": "code",
   "execution_count": null,
   "id": "a8752682-0785-41fd-bef8-020650ccf828",
   "metadata": {},
   "outputs": [],
   "source": []
  },
  {
   "cell_type": "code",
   "execution_count": null,
   "id": "8d43080d-41aa-45e3-b77f-3072e876e496",
   "metadata": {},
   "outputs": [],
   "source": []
  },
  {
   "cell_type": "code",
   "execution_count": null,
   "id": "ffd6159e-1c39-4010-840c-8350b1967be3",
   "metadata": {},
   "outputs": [],
   "source": []
  },
  {
   "cell_type": "code",
   "execution_count": null,
   "id": "4cbf586b-77bf-47ed-9833-f7e802ac952e",
   "metadata": {},
   "outputs": [],
   "source": []
  },
  {
   "cell_type": "code",
   "execution_count": null,
   "id": "2b9f1287-70c1-4d2d-b4dc-5ea7c83284af",
   "metadata": {},
   "outputs": [],
   "source": []
  },
  {
   "cell_type": "code",
   "execution_count": null,
   "id": "991a23ce-1204-4a8e-b070-4052e5750d38",
   "metadata": {},
   "outputs": [],
   "source": []
  },
  {
   "cell_type": "code",
   "execution_count": null,
   "id": "f62b8a49-796b-4043-88b0-4bef968c31cd",
   "metadata": {},
   "outputs": [],
   "source": []
  },
  {
   "cell_type": "code",
   "execution_count": null,
   "id": "d69ac110-51c7-46dd-808c-e194a882152d",
   "metadata": {},
   "outputs": [],
   "source": []
  },
  {
   "cell_type": "code",
   "execution_count": null,
   "id": "7fda882b-0dec-4b68-93df-da90f85b8a7c",
   "metadata": {},
   "outputs": [],
   "source": []
  },
  {
   "cell_type": "code",
   "execution_count": null,
   "id": "8572f821-37cb-487f-b26f-ea320d49329a",
   "metadata": {},
   "outputs": [],
   "source": []
  },
  {
   "cell_type": "code",
   "execution_count": null,
   "id": "767ffbbe-7124-4455-896c-0f99b734f396",
   "metadata": {},
   "outputs": [],
   "source": []
  }
 ],
 "metadata": {
  "kernelspec": {
   "display_name": "Python 3 (ipykernel)",
   "language": "python",
   "name": "python3"
  },
  "language_info": {
   "codemirror_mode": {
    "name": "ipython",
    "version": 3
   },
   "file_extension": ".py",
   "mimetype": "text/x-python",
   "name": "python",
   "nbconvert_exporter": "python",
   "pygments_lexer": "ipython3",
   "version": "3.10.12"
  }
 },
 "nbformat": 4,
 "nbformat_minor": 5
}
